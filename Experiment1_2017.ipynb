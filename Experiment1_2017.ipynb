{
 "cells": [
  {
   "cell_type": "code",
   "execution_count": 26,
   "metadata": {},
   "outputs": [],
   "source": [
    "from   fluids               import *\n",
    "from   thermo               import Mixture\n",
    "from   scipy.constants      import atmosphere, zero_Celsius, mmHg, g\n",
    "import scipy                as     sci\n",
    "import uncertainties \n",
    "# from   uncertainties        import *\n",
    "from   uncertainties.unumpy import *\n",
    "# import uncertainties        as     unumpy\n",
    "from   numpy                import *\n",
    "from   pandas               import *\n",
    "import pandas               as pd\n",
    "import matplotlib.pyplot    as plt\n",
    "import numpy                as np\n",
    "import uncertainties        as uc\n",
    "import uncertainties.unumpy as ucu\n",
    "import pwlf                             # amb aquest packet permet la interpolació lineal\n",
    "# import pickle        \n",
    "import math                             # amb aquest packet podem transportar informació \n",
    "from sympy import symbols, solve"
   ]
  },
  {
   "cell_type": "code",
   "execution_count": 27,
   "metadata": {},
   "outputs": [],
   "source": [
    "Data = pd.read_csv ( 'exp2_experiment2_200L_22022021_versioQualitat.csv' , sep = ';' )"
   ]
  },
  {
   "cell_type": "code",
   "execution_count": 29,
   "metadata": {},
   "outputs": [
    {
     "name": "stdout",
     "output_type": "stream",
     "text": [
      "2.8   28.0 <class 'numpy.float64'>\n"
     ]
    }
   ],
   "source": [
    "a = Data['buit'][1]\n",
    "b = a*10\n",
    "c = type(a)\n",
    "print(a,\" \", b,c)"
   ]
  },
  {
   "cell_type": "code",
   "execution_count": 32,
   "metadata": {},
   "outputs": [],
   "source": [
    "# print(Data.buit, Data.temps)"
   ]
  },
  {
   "cell_type": "code",
   "execution_count": 35,
   "metadata": {},
   "outputs": [
    {
     "data": {
      "text/plain": [
       "[<matplotlib.lines.Line2D at 0x7f86c57a3e10>]"
      ]
     },
     "execution_count": 35,
     "metadata": {},
     "output_type": "execute_result"
    },
    {
     "data": {
      "image/png": "[encoded data removed]",
      "text/plain": [
       "<Figure size 432x288 with 1 Axes>"
      ]
     },
     "metadata": {
      "needs_background": "light"
     },
     "output_type": "display_data"
    }
   ],
   "source": [
    "x = Data.temps\n",
    "y = Data.buit\n",
    "plt.plot (y,x)"
   ]
  },
  {
   "cell_type": "code",
   "execution_count": null,
   "metadata": {},
   "outputs": [],
   "source": []
  }
 ],
 "metadata": {
  "kernelspec": {
   "display_name": "Python 3",
   "language": "python",
   "name": "python3"
  },
  "language_info": {
   "codemirror_mode": {
    "name": "ipython",
    "version": 3
   },
   "file_extension": ".py",
   "mimetype": "text/x-python",
   "name": "python",
   "nbconvert_exporter": "python",
   "pygments_lexer": "ipython3",
   "version": "3.7.6"
  }
 },
 "nbformat": 4,
 "nbformat_minor": 4
}
