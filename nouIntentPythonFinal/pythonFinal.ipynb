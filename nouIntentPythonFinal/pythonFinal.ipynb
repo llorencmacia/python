{
 "cells": [
  {
   "cell_type": "markdown",
   "metadata": {},
   "source": [
    "# Intent 50mil de fer bé el putissim python de tractament d'experiments"
   ]
  },
  {
   "cell_type": "markdown",
   "metadata": {},
   "source": [
    "Experiments fets al 2017"
   ]
  },
  {
   "cell_type": "code",
   "execution_count": 10,
   "metadata": {},
   "outputs": [],
   "source": [
    "from fluids import *\n",
    "from thermo import Mixture\n",
    "from scipy.constants import atmosphere, zero_Celsius, mmHg, g\n",
    "import scipy as sci\n",
    "import uncertainties\n",
    "from uncertainties.unumpy import *\n",
    "from uncertainties import *\n",
    "from numpy import *\n",
    "import numpy  as np\n",
    "import matplotlib.pyplot as plt\n",
    "\n",
    "from pandas import *\n",
    "import pandas as pd"
   ]
  },
  {
   "cell_type": "code",
   "execution_count": 46,
   "metadata": {},
   "outputs": [],
   "source": [
    "def area(x):\n",
    "    return np.pi*x**2/4\n",
    "def perimetre(x):\n",
    "    return np.pi*x\n",
    "\n",
    "def chocked_mass_flow (pressure, temp,  area):\n",
    "        gamma = 1.4\n",
    "        if temp-zero_Celsius < 0:\n",
    "            print(\"has de sumar-hi el conversor de k a ºC\")\n",
    "        else:    \n",
    "            air = Mixture( 'air' , T = temp , P = pressure )\n",
    "            r   = sci.constants.R / air.MW * 1000\n",
    "   \n",
    "            d   = gamma+1\n",
    "            e   = 2*(gamma-1)\n",
    "    \n",
    "            A   = pressure * area\n",
    "            B   = (r*temp) **(-0.5)\n",
    "            C   = (gamma ) **0.5\n",
    "            D   = (  2 / d  )**(d/e)\n",
    "            \n",
    "        return  A * B * C * D\n",
    "\n",
    "def f_mdot_s ( mesures1 , mesures2 , petitOgran, waterOalco ):\n",
    "    \n",
    "    taps        = 'flange'\n",
    "    meter_type  = 'long radius nozzle'\n",
    "    \n",
    "    D      = ufloat(25e-3,DeltaM)\n",
    "    \n",
    "    air   = Mixture('air',T=T_amb,P=P_amb)\n",
    "    k     = air.isentropic_exponent\n",
    "    mu    = air.mu\n",
    "    rho   = air.rho\n",
    "    \n",
    "    if petitOgran == 1:   \n",
    "        Do     = ufloat(10.3e-3,DeltaMM)         # orifice diameter in m (large nozzle)\n",
    "    else:\n",
    "        Do     = ufloat(5.15e-3, DeltaMM)         # orifice diameter in m (small nozzle)\n",
    "        \n",
    "    if waterOalco == 1:\n",
    "        manRelRho = 1000\n",
    "    else: \n",
    "        manRelRho = 791.8\n",
    "    \n",
    "    \n",
    "    h1  = uarray(mesures1 ,DeltaH*ones(len (mesures1)))\n",
    "    h2  = uarray(mesures2 ,DeltaH*ones(len (mesures2)))\n",
    "\n",
    "    p1   = (h2 * g * manRelRho)/1000 # p1 is the bigger pressure, and \n",
    "    p2   = (h1 * g * manRelRho)/1000 # p2 is the low pressure in the nozzle\n",
    "    DeltaP = p1 - p2\n",
    "    \n",
    "    mdot = uarray( zeros(len (mesures1)) , zeros(len (mesures1)) )\n",
    "    mdot_t = uarray( zeros(len (mesures1)) , zeros(len (mesures1)) )\n",
    "\n",
    "    for i in range( len(mesures1) ):\n",
    "        \n",
    "        if nominal_value(DeltaP[i]) != 0.0:        # Just to avoid division by 0 when DeltaP=0. .\n",
    "            mdot[i] = wrappedFlowMeter(D=D, D2=Do, P1=P_amb , P2=P_amb-DeltaP[i] , rho=rho, mu=mu, k=k, meter_type=meter_type, taps=taps)  \n",
    "        else:\n",
    "            mdot[i] = ufloat(0.0,0.0)\n",
    "    mdot_n = mdot*60000/rhoN\n",
    "    \n",
    "    return mdot, mdot_n\n",
    "        \n",
    "def f_mdot_p ( mesures1 , mesures2 , mesuresT  ):\n",
    "\n",
    "    taps       = 'flange'\n",
    "    meter_type = 'ISO 5167 orifice'\n",
    "    #meter_type = 'ISA 1932 nozzle'\n",
    "    a        = area(2.75e-3)\n",
    "    Do       = ufloat(4.2e-3,DeltaMM)  # orifice diameter in m (small nozzle)\n",
    "    D        = ufloat(25e-3, DeltaM)     # pipe diameter in m\n",
    "    \n",
    "    mesures1 = mesures1 * 1e5  + atmosphere\n",
    "    mesures2 = mesures2 * 1e5  + atmosphere\n",
    "        \n",
    "    p1       = uarray( mesures1 , DeltaP * ones(len (mesures1)) )\n",
    "    p2       = uarray( mesures2 , DeltaP * ones(len (mesures2)) )\n",
    "    T1       = uarray( mesuresT , DeltaT * ones(len (mesuresT)) ) \n",
    "    T1       = T1 + zero_Celsius\n",
    "    \n",
    "    mdot_p   = uarray(zeros(len(mesures1)) , zeros(len(mesures1)) )\n",
    "    mdot_t   = uarray(zeros(len(mesures1)) , zeros(len(mesures1)) )\n",
    "\n",
    "    for i in range( len(mesures1) ):\n",
    "    # l'aire es calcula amb cada valor de P i de T. \n",
    "        air           = Mixture( 'air' , T=float(nominal_value (T1[i]) ) , P=float( nominal_value(p1[i]) ) )\n",
    "        k             = air.isentropic_exponent\n",
    "        mu            = air.mu\n",
    "        rho           = air.rho \n",
    "        \n",
    "        mdot_p[i]   = wrappedFlowMeter(D=D, D2=Do, P1=p1[i], P2=p2[i], rho=rho, mu=mu, k=k, meter_type=meter_type, taps=taps)\n",
    "        \n",
    "        mdot_t[i] = chocked_mass_fl(p2[i], T1[i], a)\n",
    "        \n",
    "    mdot_n   = mdot_p*60000/rhoN\n",
    "    mdot_t_n = mdot_t*60000/rhoN\n",
    "        \n",
    "    return mdot_p, mdot_n, mdot_t , mdot_t_n\n",
    "def vacuum (mesures1, mesures2):\n",
    "    \n",
    "    h3 = uarray( mesures1 , DeltaH_Hg * ones(len (mesures1)) )\n",
    "    h4 = uarray( mesures2 , DeltaH_Hg * ones(len (mesures2)) )\n",
    "    \n",
    "    p3 = h3*mmHg\n",
    "    p4 = h4*mmHg\n",
    "    \n",
    "    P_vessel     = p3 - p4\n",
    "    P_vessel_dim = (P_amb - P_vessel) / P_amb\n",
    "    P_vessel_n   = 1 - P_vessel_dim\n",
    "    \n",
    "    return P_vessel, P_vessel_dim , P_vessel_n\n",
    "\n",
    "\n",
    "# For the calculation of flow rate with uncertainties:\n",
    "wrappedFlowMeter = uncertainties.wrap( differential_pressure_meter_solver) \n",
    "chocked_mass_fl = uncertainties.wrap( chocked_mass_flow) \n",
    "# Normal conditions for air\n",
    "airN = Mixture('air',T=293,P=101325)\n",
    "rhoN = airN.rho"
   ]
  },
  {
   "cell_type": "code",
   "execution_count": 47,
   "metadata": {},
   "outputs": [],
   "source": [
    "# Air conditions in experimental session\n",
    "P_amb = 745                           # Ambient pressure in mmHg\n",
    "T_amb = 25                            # T in degrees\n",
    "\n",
    "P_amb = P_amb*mmHg                    # Pressure in Pa\n",
    "T_amb = T_amb + zero_Celsius          # T in K \n",
    "\n",
    "air   = Mixture('air',T=T_amb,P=P_amb)\n",
    "k     = air.isentropic_exponent\n",
    "mu    = air.mu\n",
    "rho   = air.rho"
   ]
  },
  {
   "cell_type": "markdown",
   "metadata": {},
   "source": [
    "Inserim aquí els valors dels errors de mesura"
   ]
  },
  {
   "cell_type": "code",
   "execution_count": 48,
   "metadata": {},
   "outputs": [],
   "source": [
    "DeltaH            = 0.05           # uncertainty in pressure,in m. abans n'hi havia 2\n",
    "DeltaH_Hg         = 10           # uncertainty for mercury\n",
    "DeltaP            = 1 #0.01e5        # uncertainty in pressure, in Pa\n",
    "DeltaT            = 1         # uncertainty in kelvin\n",
    "DeltaM            = 0.001 #DeltaH        #uncertainty of measures of mm, expresed in meters\n",
    "DeltaMM           = 0.0001"
   ]
  },
  {
   "cell_type": "markdown",
   "metadata": {},
   "source": [
    "Llegim dades\n",
    "\n",
    "Experiment 1"
   ]
  },
  {
   "cell_type": "code",
   "execution_count": 49,
   "metadata": {},
   "outputs": [],
   "source": [
    "largeNozzle = pd.read_csv ( 'experiment1.csv' , sep = ',' )\n",
    "\n",
    "#Experimental setup\n",
    "petitOgran = 1 \n",
    "waterOalco = 1\n",
    "\n",
    "# Calcul del cabal secundari\n",
    "mesures1 = largeNozzle.mesures1_s\n",
    "mesures2 = largeNozzle.mesures2_s\n",
    "\n",
    "mdot_s, mdot_s_n  = f_mdot_s( mesures1, mesures2, petitOgran, waterOalco )\n",
    "largeNozzle['mdot_s'] = mdot_s\n",
    "largeNozzle['mdot_s_n'] = mdot_s_n\n",
    "\n",
    "\n",
    "# Calcul del cabal primari\n",
    "mesures1 = largeNozzle.mesures1_p\n",
    "mesures2 = largeNozzle.mesures2_p\n",
    "mesuresT = largeNozzle.mesuresT\n",
    "\n",
    "mdot_p, mdot_p_n, mdot_p_t, mdot_p_t_n  = f_mdot_p( mesures1, mesures2, mesuresT )\n",
    "largeNozzle['mdot_p']     = mdot_p\n",
    "largeNozzle['mdot_p_n']   = mdot_p_n\n",
    "largeNozzle['mdot_p_t']   = mdot_p_t\n",
    "largeNozzle['mdot_p_t_n'] = mdot_p_t_n\n",
    "\n",
    "# Càlcul del nivell de buit\n",
    "mesures1 = largeNozzle.mesures1_pv\n",
    "mesures2 = largeNozzle.mesures2_pv\n",
    "\n",
    "p_vessel, p_vessel_dim , p_vessel_n = vacuum (mesures1, mesures2)\n",
    "largeNozzle['p_vessel']     = p_vessel\n",
    "largeNozzle['p_vessel_dim'] = p_vessel_dim\n",
    "largeNozzle['p_vessel_n']   = p_vessel_n\n",
    "\n",
    "# adimensionem el cabal\n",
    "largeNozzle['mu'] = largeNozzle.mdot_s/largeNozzle.mdot_p\n"
   ]
  },
  {
   "cell_type": "code",
   "execution_count": 50,
   "metadata": {},
   "outputs": [
    {
     "name": "stdout",
     "output_type": "stream",
     "text": [
      "    mesures1_s  mesures2_s  mesures1_pv  mesures2_pv  mesures1_p  mesures2_p  \\\n",
      "0          226         717         1176         1143        6.72        6.00   \n",
      "1          248         694         1187         1131        6.72        6.01   \n",
      "2          282         659         1211         1109        6.71        6.00   \n",
      "3          318         624         1233         1087        6.72        6.01   \n",
      "4          330         613         1248         1072        6.70        6.00   \n",
      "5          360         582         1267         1053        6.70        6.00   \n",
      "6          391         551         1296         1024        6.70        6.00   \n",
      "7          413         529         1334          988        6.69        6.00   \n",
      "8          437         504         1363          960        6.69        6.00   \n",
      "9          459         484         1410          913        6.69        5.99   \n",
      "10         470         470         1463          860        6.69        6.00   \n",
      "\n",
      "    mesuresT             mdot_s     mdot_s_n           mdot_p  mdot_p_n  \\\n",
      "0       18.0  0.00843+/-0.00017      420+/-8  0.0095+/-0.0005  475+/-23   \n",
      "1       18.0  0.00805+/-0.00016      401+/-8  0.0095+/-0.0005  472+/-22   \n",
      "2       18.1  0.00742+/-0.00015      369+/-7  0.0095+/-0.0004  472+/-22   \n",
      "3       18.2  0.00670+/-0.00014      334+/-7  0.0095+/-0.0005  472+/-22   \n",
      "4       19.1  0.00645+/-0.00013      321+/-7  0.0094+/-0.0004  467+/-22   \n",
      "5       19.1  0.00572+/-0.00012      285+/-6  0.0094+/-0.0004  467+/-22   \n",
      "6       19.2  0.00486+/-0.00010      242+/-5  0.0094+/-0.0004  467+/-22   \n",
      "7       19.3  0.00413+/-0.00008      206+/-4  0.0093+/-0.0004  464+/-22   \n",
      "8       19.5  0.00313+/-0.00006  155.9+/-3.2  0.0093+/-0.0004  463+/-22   \n",
      "9       19.6  0.00189+/-0.00004   94.1+/-1.9  0.0094+/-0.0004  466+/-22   \n",
      "10      19.6            0.0+/-0      0.0+/-0  0.0093+/-0.0004  463+/-22   \n",
      "\n",
      "               mdot_p_t   mdot_p_t_n           p_vessel   p_vessel_dim  \\\n",
      "0   0.009865+/-0.000017  491.1+/-0.8    (4.4+/-1.9)e+03  0.956+/-0.019   \n",
      "1   0.009879+/-0.000017  491.8+/-0.8    (7.5+/-1.9)e+03  0.925+/-0.019   \n",
      "2   0.009864+/-0.000017  491.1+/-0.8  (1.36+/-0.19)e+04  0.863+/-0.019   \n",
      "3   0.009876+/-0.000017  491.7+/-0.8  (1.95+/-0.19)e+04  0.804+/-0.019   \n",
      "4   0.009847+/-0.000017  490.2+/-0.8  (2.35+/-0.19)e+04  0.764+/-0.019   \n",
      "5   0.009847+/-0.000017  490.2+/-0.8  (2.85+/-0.19)e+04  0.713+/-0.019   \n",
      "6   0.009845+/-0.000017  490.1+/-0.8  (3.63+/-0.19)e+04  0.635+/-0.019   \n",
      "7   0.009843+/-0.000017  490.0+/-0.8  (4.61+/-0.19)e+04  0.536+/-0.019   \n",
      "8   0.009840+/-0.000017  489.9+/-0.8  (5.37+/-0.19)e+04  0.459+/-0.019   \n",
      "9   0.009824+/-0.000017  489.1+/-0.8  (6.63+/-0.19)e+04  0.333+/-0.019   \n",
      "10  0.009838+/-0.000017  489.8+/-0.8  (8.04+/-0.19)e+04  0.191+/-0.019   \n",
      "\n",
      "       p_vessel_n             mu  \n",
      "0   0.044+/-0.019    0.88+/-0.05  \n",
      "1   0.075+/-0.019    0.85+/-0.04  \n",
      "2   0.137+/-0.019    0.78+/-0.04  \n",
      "3   0.196+/-0.019    0.71+/-0.04  \n",
      "4   0.236+/-0.019  0.687+/-0.035  \n",
      "5   0.287+/-0.019  0.609+/-0.031  \n",
      "6   0.365+/-0.019  0.518+/-0.027  \n",
      "7   0.464+/-0.019  0.444+/-0.023  \n",
      "8   0.541+/-0.019  0.336+/-0.017  \n",
      "9   0.667+/-0.019  0.202+/-0.010  \n",
      "10  0.809+/-0.019        0.0+/-0  \n"
     ]
    }
   ],
   "source": [
    "print(largeNozzle)"
   ]
  },
  {
   "cell_type": "code",
   "execution_count": 51,
   "metadata": {},
   "outputs": [
    {
     "name": "stdout",
     "output_type": "stream",
     "text": [
      "[22.56543041 22.41607379 22.39689808 22.40820377 22.19239888 22.19239888\n",
      " 22.18851834 22.01838825 22.01069597 22.15791113 22.0068529 ]\n"
     ]
    }
   ],
   "source": [
    "print(std_devs(largeNozzle.mdot_p_n))"
   ]
  },
  {
   "cell_type": "code",
   "execution_count": 52,
   "metadata": {},
   "outputs": [
    {
     "data": {
      "image/png": "[encoded data removed]",
      "text/plain": [
       "<Figure size 432x288 with 1 Axes>"
      ]
     },
     "metadata": {
      "needs_background": "light"
     },
     "output_type": "display_data"
    }
   ],
   "source": [
    "\n",
    "\n",
    "fig = plt.figure()\n",
    "fig1 = fig.add_subplot(1,1,1)\n",
    "fig1.errorbar(x=nominal_values(largeNozzle.mu),y=nominal_values(largeNozzle.p_vessel_dim),\\\n",
    "              xerr=std_devs(largeNozzle.mu),\\\n",
    "              yerr=std_devs(largeNozzle.p_vessel_dim),\\\n",
    "              fmt='o',label=\"Experimental Large nozzle\")\n",
    "plt.xlabel(\"prova\")\n",
    "fig1.legend()\n",
    "fig1.grid()"
   ]
  },
  {
   "cell_type": "code",
   "execution_count": null,
   "metadata": {},
   "outputs": [],
   "source": []
  },
  {
   "cell_type": "code",
   "execution_count": null,
   "metadata": {},
   "outputs": [],
   "source": []
  },
  {
   "cell_type": "code",
   "execution_count": null,
   "metadata": {},
   "outputs": [],
   "source": []
  },
  {
   "cell_type": "code",
   "execution_count": null,
   "metadata": {},
   "outputs": [],
   "source": []
  },
  {
   "cell_type": "code",
   "execution_count": null,
   "metadata": {},
   "outputs": [],
   "source": []
  },
  {
   "cell_type": "code",
   "execution_count": null,
   "metadata": {},
   "outputs": [],
   "source": []
  }
 ],
 "metadata": {
  "kernelspec": {
   "display_name": "Python 3",
   "language": "python",
   "name": "python3"
  },
  "language_info": {
   "codemirror_mode": {
    "name": "ipython",
    "version": 3
   },
   "file_extension": ".py",
   "mimetype": "text/x-python",
   "name": "python",
   "nbconvert_exporter": "python",
   "pygments_lexer": "ipython3",
   "version": "3.7.6"
  }
 },
 "nbformat": 4,
 "nbformat_minor": 4
}
