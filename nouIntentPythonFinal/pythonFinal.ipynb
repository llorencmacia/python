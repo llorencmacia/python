{
 "cells": [
  {
   "cell_type": "markdown",
   "metadata": {},
   "source": [
    "# Python de tractament d'experiments"
   ]
  },
  {
   "cell_type": "markdown",
   "metadata": {},
   "source": [
    "Experiments fets al 2017"
   ]
  },
  {
   "cell_type": "code",
   "execution_count": 1,
   "metadata": {},
   "outputs": [],
   "source": [
    "from fluids import *\n",
    "from thermo import Mixture\n",
    "from scipy.constants import atmosphere, zero_Celsius, mmHg, g\n",
    "import scipy as sci\n",
    "import uncertainties\n",
    "from uncertainties.unumpy import *\n",
    "from uncertainties import *\n",
    "from numpy import *\n",
    "import numpy  as np\n",
    "import matplotlib.pyplot as plt\n",
    "import pwlf\n",
    "\n",
    "from pandas import *\n",
    "import pandas as pd"
   ]
  },
  {
   "cell_type": "code",
   "execution_count": 2,
   "metadata": {},
   "outputs": [],
   "source": [
    "def area(x):\n",
    "    return np.pi*x**2/4\n",
    "def perimetre(x):\n",
    "    return np.pi*x\n",
    "\n",
    "def chocked_mass_flow (pressure, temp,  area):\n",
    "        gamma = 1.4\n",
    "        if temp-zero_Celsius < 0:\n",
    "            print(\"has de sumar-hi el conversor de k a ºC\")\n",
    "        else:    \n",
    "            air = Mixture( 'air' , T = temp , P = pressure )\n",
    "            r   = sci.constants.R / air.MW * 1000\n",
    "   \n",
    "            d   = gamma+1\n",
    "            e   = 2*(gamma-1)\n",
    "    \n",
    "            A   = pressure * area\n",
    "            B   = (r*temp) **(-0.5)\n",
    "            C   = (gamma ) **0.5\n",
    "            D   = (  2 / d  )**(d/e)\n",
    "            \n",
    "        return  A * B * C * D\n",
    "\n",
    "def f_mdot_s ( mesures1 , mesures2 , petitOgran, waterOalco ):\n",
    "    \n",
    "    taps        = 'flange'\n",
    "    meter_type  = 'long radius nozzle'\n",
    "    \n",
    "    air   = Mixture('air',T=T_amb,P=P_amb)\n",
    "    k     = air.isentropic_exponent\n",
    "    mu    = air.mu\n",
    "    rho   = air.rho\n",
    "    \n",
    "    if petitOgran == 1:   \n",
    "        Do     = ufloat(10.3e-3,DeltaMM)         # orifice diameter in m (large nozzle)\n",
    "        D      = ufloat(30e-3,DeltaM)\n",
    "    else:\n",
    "        Do     = ufloat(5.15e-3, DeltaMM)         # orifice diameter in m (small nozzle)\n",
    "        D      = ufloat(25e-3,DeltaM)\n",
    "        \n",
    "    if waterOalco == 1:\n",
    "        manRelRho = 1000\n",
    "    else: \n",
    "        manRelRho = 791.8\n",
    "    \n",
    "    \n",
    "    h1  = uarray(mesures1 ,DeltaH*ones(len (mesures1)))\n",
    "    h2  = uarray(mesures2 ,DeltaH*ones(len (mesures2)))\n",
    "\n",
    "    p1   = (h2 * g * manRelRho)/1000 # p1 is the bigger pressure, and \n",
    "    p2   = (h1 * g * manRelRho)/1000 # p2 is the low pressure in the nozzle\n",
    "    DeltaP = p1 - p2\n",
    "    \n",
    "    mdot = uarray( zeros(len (mesures1)) , zeros(len (mesures1)) )\n",
    "    mdot_t = uarray( zeros(len (mesures1)) , zeros(len (mesures1)) )\n",
    "\n",
    "    for i in range( len(mesures1) ):\n",
    "        \n",
    "        if nominal_value(DeltaP[i]) != 0.0:        # Just to avoid division by 0 when DeltaP=0. .\n",
    "            mdot[i] = wrappedFlowMeter(D=D, D2=Do, P1=P_amb , P2=P_amb-DeltaP[i] , rho=rho, mu=mu, k=k, meter_type=meter_type, taps=taps)  \n",
    "        else:\n",
    "            mdot[i] = ufloat(0.0,0.0)\n",
    "    mdot_n = mdot*60000/rhoN\n",
    "    \n",
    "    return mdot, mdot_n\n",
    "        \n",
    "def f_mdot_p ( mesures1 , mesures2 , mesuresT  ):\n",
    "\n",
    "    taps       = 'flange'\n",
    "    meter_type = 'ISO 5167 orifice'\n",
    "    #meter_type = 'ISA 1932 nozzle'\n",
    "    a        = area(2.75e-3)\n",
    "    \n",
    "    Do       = ufloat(4.2e-3,DeltaMM)  # orifice diameter in m (small nozzle)\n",
    "    D        = ufloat(22e-3, DeltaM)     # pipe diameter in m\n",
    "    \n",
    "    mesures1 = mesures1 * 1e5  + atmosphere\n",
    "    mesures2 = mesures2 * 1e5  + atmosphere\n",
    "        \n",
    "    p1       = uarray( mesures1 , DeltaP * ones(len (mesures1)) )\n",
    "    p2       = uarray( mesures2 , DeltaP * ones(len (mesures2)) )\n",
    "    T1       = uarray( mesuresT , DeltaT * ones(len (mesuresT)) ) \n",
    "    T1       = T1 + zero_Celsius\n",
    "    \n",
    "    mdot_p   = uarray(zeros(len(mesures1)) , zeros(len(mesures1)) )\n",
    "    mdot_t   = uarray(zeros(len(mesures1)) , zeros(len(mesures1)) )\n",
    "\n",
    "    for i in range( len(mesures1) ):\n",
    "    # l'aire es calcula amb cada valor de P i de T. \n",
    "        air           = Mixture( 'air' , T=float(nominal_value (T1[i]) ) , P=float( nominal_value(p1[i]) ) )\n",
    "        k             = air.isentropic_exponent\n",
    "        mu            = air.mu\n",
    "        rho           = air.rho \n",
    "        \n",
    "        mdot_p[i]   = wrappedFlowMeter(D=D, D2=Do, P1=p1[i], P2=p2[i], rho=rho, mu=mu, k=k, meter_type=meter_type, taps=taps)\n",
    "        \n",
    "        mdot_t[i] = chocked_mass_fl(p2[i], T1[i], a)\n",
    "        \n",
    "    mdot_n   = mdot_p*60000/rhoN\n",
    "    mdot_t_n = mdot_t*60000/rhoN\n",
    "        \n",
    "    return mdot_p, mdot_n, mdot_t , mdot_t_n\n",
    "def vacuum (mesures1, mesures2):\n",
    "    \n",
    "    h3 = uarray( mesures1 , DeltaH_Hg * ones(len (mesures1)) )\n",
    "    h4 = uarray( mesures2 , DeltaH_Hg * ones(len (mesures2)) )\n",
    "    \n",
    "    p3 = h3*mmHg\n",
    "    p4 = h4*mmHg\n",
    "    \n",
    "    P_vessel     = p3 - p4\n",
    "    P_vessel_dim = (P_amb - P_vessel) / P_amb\n",
    "    P_vessel_n   = 1 - P_vessel_dim\n",
    "    \n",
    "    return P_vessel, P_vessel_dim , P_vessel_n\n",
    "\n",
    "def vacuum_n (mesuresB):\n",
    "    p_vessel = p_amb * mesuresB\n",
    "    p_essel_dim = (P_amb - pvessel) / P_amb\n",
    "    \n",
    "    return p_vessel, p_essel_dim\n",
    "\n",
    "# For the calculation of flow rate with uncertainties:\n",
    "wrappedFlowMeter = uncertainties.wrap( differential_pressure_meter_solver) \n",
    "chocked_mass_fl = uncertainties.wrap( chocked_mass_flow) \n",
    "# Normal conditions for air\n",
    "airN = Mixture('air',T=293,P=101325)\n",
    "rhoN = airN.rho"
   ]
  },
  {
   "cell_type": "code",
   "execution_count": 3,
   "metadata": {},
   "outputs": [],
   "source": [
    "# Air conditions in experimental session\n",
    "P_amb = 745                           # Ambient pressure in mmHg\n",
    "T_amb = 25                            # T in degrees\n",
    "\n",
    "P_amb = P_amb*mmHg                    # Pressure in Pa\n",
    "T_amb = T_amb + zero_Celsius          # T in K \n",
    "\n",
    "air   = Mixture('air',T=T_amb,P=P_amb)\n",
    "k     = air.isentropic_exponent\n",
    "mu    = air.mu\n",
    "rho   = air.rho"
   ]
  },
  {
   "cell_type": "markdown",
   "metadata": {},
   "source": [
    "Inserim aquí els valors dels errors de mesura"
   ]
  },
  {
   "cell_type": "code",
   "execution_count": 4,
   "metadata": {},
   "outputs": [],
   "source": [
    "DeltaH            = 5e-2           # uncertainty in pressure,in m. abans n'hi havia 2\n",
    "DeltaH_Hg         = 10             # uncertainty for mercury, in mm\n",
    "DeltaP            = 1              # uncertainty in pressure, in Pa\n",
    "DeltaT            = 1              # uncertainty in kelvin\n",
    "DeltaM            = 1e-3          #uncertainty of measures of mm, expresed in meters\n",
    "DeltaMM           = 1e-4"
   ]
  },
  {
   "cell_type": "markdown",
   "metadata": {},
   "source": [
    "Llegim dades\n",
    "\n",
    "Experiment 1"
   ]
  },
  {
   "cell_type": "code",
   "execution_count": 5,
   "metadata": {},
   "outputs": [],
   "source": [
    "largeNozzle = pd.read_csv ( 'experiment1.csv' , sep = ',' )\n",
    "\n",
    "#Experimental setup\n",
    "petitOgran = 1 \n",
    "waterOalco = 1\n",
    "\n",
    "# Calcul del cabal secundari\n",
    "mesures1 = largeNozzle.mesures1_s\n",
    "mesures2 = largeNozzle.mesures2_s\n",
    "\n",
    "mdot_s, mdot_s_n  = f_mdot_s( mesures1, mesures2, petitOgran, waterOalco )\n",
    "largeNozzle['mdot_s'] = mdot_s\n",
    "largeNozzle['mdot_s_n'] = mdot_s_n\n",
    "\n",
    "\n",
    "# Calcul del cabal primari\n",
    "mesures1 = largeNozzle.mesures1_p\n",
    "mesures2 = largeNozzle.mesures2_p\n",
    "mesuresT = largeNozzle.mesuresT\n",
    "\n",
    "mdot_p, mdot_p_n, mdot_p_t, mdot_p_t_n  = f_mdot_p( mesures1, mesures2, mesuresT )\n",
    "largeNozzle['mdot_p']     = mdot_p\n",
    "largeNozzle['mdot_p_n']   = mdot_p_n\n",
    "largeNozzle['mdot_p_t']   = mdot_p_t\n",
    "largeNozzle['mdot_p_t_n'] = mdot_p_t_n\n",
    "\n",
    "# Càlcul del nivell de buit\n",
    "mesures1 = largeNozzle.mesures1_pv\n",
    "mesures2 = largeNozzle.mesures2_pv\n",
    "\n",
    "p_vessel, p_vessel_dim , p_vessel_n = vacuum (mesures1, mesures2)\n",
    "largeNozzle['p_vessel']     = p_vessel\n",
    "largeNozzle['p_vessel_dim'] = p_vessel_dim\n",
    "largeNozzle['p_vessel_n']   = p_vessel_n\n",
    "\n",
    "# adimensionem el cabal\n",
    "largeNozzle['mu'] = largeNozzle.mdot_s/largeNozzle.mdot_p\n"
   ]
  },
  {
   "cell_type": "markdown",
   "metadata": {},
   "source": [
    "experiment 2"
   ]
  },
  {
   "cell_type": "code",
   "execution_count": 6,
   "metadata": {},
   "outputs": [],
   "source": [
    "smallNozzle = pd.read_csv ( 'experiment2.csv' , sep = ',' )\n",
    "\n",
    "#Experimental setup\n",
    "petitOgran = 2 \n",
    "waterOalco = 1\n",
    "\n",
    "# Calcul del cabal secundari\n",
    "mesures1 = smallNozzle.mesures1_s\n",
    "mesures2 = smallNozzle.mesures2_s\n",
    "\n",
    "mdot_s, mdot_s_n  = f_mdot_s( mesures1, mesures2, petitOgran, waterOalco )\n",
    "smallNozzle['mdot_s'] = mdot_s\n",
    "smallNozzle['mdot_s_n'] = mdot_s_n\n",
    "\n",
    "\n",
    "# Calcul del cabal primari\n",
    "mesures1 = smallNozzle.mesures1_p\n",
    "mesures2 = smallNozzle.mesures2_p\n",
    "mesuresT = smallNozzle.mesuresT\n",
    "\n",
    "mdot_p, mdot_p_n, mdot_p_t, mdot_p_t_n  = f_mdot_p( mesures1, mesures2, mesuresT )\n",
    "smallNozzle['mdot_p']     = mdot_p\n",
    "smallNozzle['mdot_p_n']   = mdot_p_n\n",
    "smallNozzle['mdot_p_t']   = mdot_p_t\n",
    "smallNozzle['mdot_p_t_n'] = mdot_p_t_n\n",
    "\n",
    "# Càlcul del nivell de buit\n",
    "mesures1 = smallNozzle.mesures1_pv\n",
    "mesures2 = smallNozzle.mesures2_pv\n",
    "\n",
    "p_vessel, p_vessel_dim , p_vessel_n = vacuum (mesures1, mesures2)\n",
    "smallNozzle['p_vessel']     = p_vessel\n",
    "smallNozzle['p_vessel_dim'] = p_vessel_dim\n",
    "smallNozzle['p_vessel_n']   = p_vessel_n\n",
    "\n",
    "# adimensionem el cabal\n",
    "smallNozzle['mu'] = smallNozzle.mdot_s/ smallNozzle.mdot_p\n"
   ]
  },
  {
   "cell_type": "markdown",
   "metadata": {},
   "source": [
    "Experiment 3"
   ]
  },
  {
   "cell_type": "code",
   "execution_count": 7,
   "metadata": {},
   "outputs": [],
   "source": [
    "smallNozzle1 = pd.read_csv ( 'experiment3.csv' , sep = ',' )\n",
    "\n",
    "#Experimental setup\n",
    "petitOgran = 2 \n",
    "waterOalco = 2\n",
    "\n",
    "# Calcul del cabal secundari\n",
    "mesures1 = smallNozzle1.mesures1_s\n",
    "mesures2 = smallNozzle1.mesures2_s\n",
    "\n",
    "mdot_s, mdot_s_n  = f_mdot_s( mesures1, mesures2, petitOgran, waterOalco )\n",
    "smallNozzle1['mdot_s'] = mdot_s\n",
    "smallNozzle1['mdot_s_n'] = mdot_s_n\n",
    "\n",
    "\n",
    "# Calcul del cabal primari\n",
    "mesures1 = smallNozzle1.mesures1_p\n",
    "mesures2 = smallNozzle1.mesures2_p\n",
    "mesuresT = smallNozzle1.mesuresT\n",
    "\n",
    "mdot_p, mdot_p_n, mdot_p_t, mdot_p_t_n  = f_mdot_p( mesures1, mesures2, mesuresT )\n",
    "smallNozzle1['mdot_p']     = mdot_p\n",
    "smallNozzle1['mdot_p_n']   = mdot_p_n\n",
    "smallNozzle1['mdot_p_t']   = mdot_p_t\n",
    "smallNozzle1['mdot_p_t_n'] = mdot_p_t_n\n",
    "\n",
    "# Càlcul del nivell de buit\n",
    "mesures1 = smallNozzle1.mesures1_pv\n",
    "mesures2 = smallNozzle1.mesures2_pv\n",
    "\n",
    "p_vessel, p_vessel_dim , p_vessel_n = vacuum (mesures1, mesures2)\n",
    "smallNozzle1['p_vessel']     = p_vessel\n",
    "smallNozzle1['p_vessel_dim'] = p_vessel_dim\n",
    "smallNozzle1['p_vessel_n']   = p_vessel_n\n",
    "\n",
    "# adimensionem el cabal\n",
    "smallNozzle1['mu'] = smallNozzle1.mdot_s/ smallNozzle1.mdot_p\n",
    "\n",
    "smallNozzle1       = smallNozzle1.sort_values( by   = 'mu')\n",
    "smallNozzle1       = smallNozzle1.reset_index( drop = 'True')      \n"
   ]
  },
  {
   "cell_type": "code",
   "execution_count": 8,
   "metadata": {},
   "outputs": [],
   "source": [
    "PvsMu = pd.concat([largeNozzle,smallNozzle,smallNozzle1])\n",
    "\n",
    "# print(PvsTime)\n",
    "PvsMu       = PvsMu.sort_values( by   = 'p_vessel_dim')\n",
    "PvsMu       = PvsMu.reset_index( drop = 'True')      \n",
    "\n"
   ]
  },
  {
   "cell_type": "code",
   "execution_count": 9,
   "metadata": {},
   "outputs": [
    {
     "name": "stderr",
     "output_type": "stream",
     "text": [
      "No handles with labels found to put in legend.\n"
     ]
    },
    {
     "data": {
      "image/png": "[encoded data removed]",
      "text/plain": [
       "<Figure size 432x288 with 1 Axes>"
      ]
     },
     "metadata": {
      "needs_background": "light"
     },
     "output_type": "display_data"
    }
   ],
   "source": [
    "x = nominal_values(largeNozzle.mu)\n",
    "y = nominal_values(largeNozzle.p_vessel_dim)\n",
    "dy = std_devs(largeNozzle.p_vessel_dim)\n",
    "dx = std_devs(largeNozzle.mu)\n",
    "\n",
    "my_pwlf   = pwlf.PiecewiseLinFit( x , y )  #inicia aquí la sequencia del piecewiselinealfit \n",
    "res       = my_pwlf.fit( 2 ) \n",
    "\n",
    "xfit = np.linspace(0,max(x),100)\n",
    "yfit = my_pwlf.predict(xfit)\n",
    "\n",
    "plt.plot(x, y, 'or')\n",
    "plt.plot(xfit, yfit, '-', color='gray')\n",
    "plt.fill_betweenx(y, x - dx, x + dx,color='gray', alpha=0.2)\n",
    "plt.legend()\n",
    "plt.grid()"
   ]
  },
  {
   "cell_type": "code",
   "execution_count": 10,
   "metadata": {},
   "outputs": [
    {
     "name": "stderr",
     "output_type": "stream",
     "text": [
      "No handles with labels found to put in legend.\n"
     ]
    },
    {
     "data": {
      "image/png": "[encoded data removed]",
      "text/plain": [
       "<Figure size 432x288 with 1 Axes>"
      ]
     },
     "metadata": {
      "needs_background": "light"
     },
     "output_type": "display_data"
    }
   ],
   "source": [
    "x = nominal_values(smallNozzle.mu)\n",
    "y = nominal_values(smallNozzle.p_vessel_dim)\n",
    "dy = std_devs(smallNozzle.p_vessel_dim)\n",
    "dx = std_devs(smallNozzle.mu)\n",
    "\n",
    "my_pwlf   = pwlf.PiecewiseLinFit( x , y )  #inicia aquí la sequencia del piecewiselinealfit \n",
    "res       = my_pwlf.fit( 2 ) \n",
    "\n",
    "xfit = np.linspace(0,max(x),100)\n",
    "yfit = my_pwlf.predict(xfit)\n",
    "\n",
    "plt.plot(x, y, 'or')\n",
    "plt.plot(xfit, yfit, '-', color='gray')\n",
    "plt.fill_betweenx(y, x - dx, x + dx,color='gray', alpha=0.2)\n",
    "plt.legend()\n",
    "plt.grid()"
   ]
  },
  {
   "cell_type": "code",
   "execution_count": 11,
   "metadata": {},
   "outputs": [
    {
     "name": "stderr",
     "output_type": "stream",
     "text": [
      "No handles with labels found to put in legend.\n"
     ]
    },
    {
     "data": {
      "image/png": "[encoded data removed]",
      "text/plain": [
       "<Figure size 432x288 with 1 Axes>"
      ]
     },
     "metadata": {
      "needs_background": "light"
     },
     "output_type": "display_data"
    }
   ],
   "source": [
    "x = nominal_values(smallNozzle1.mu)\n",
    "y = nominal_values(smallNozzle1.p_vessel_dim)\n",
    "dy = std_devs(smallNozzle1.p_vessel_dim)\n",
    "dx = std_devs(smallNozzle1.mu)\n",
    "\n",
    "my_pwlf   = pwlf.PiecewiseLinFit( x , y )  #inicia aquí la sequencia del piecewiselinealfit \n",
    "res       = my_pwlf.fit( 2 ) \n",
    "\n",
    "xfit = np.linspace(0,max(x),100)\n",
    "yfit = my_pwlf.predict(xfit)\n",
    "\n",
    "plt.plot(x, y, 'or')\n",
    "plt.plot(xfit, yfit, '-', color='gray')\n",
    "plt.fill_betweenx(y, x - dx, x + dx,color='gray', alpha=0.2)\n",
    "plt.legend()\n",
    "plt.grid()"
   ]
  },
  {
   "cell_type": "code",
   "execution_count": 12,
   "metadata": {},
   "outputs": [
    {
     "name": "stderr",
     "output_type": "stream",
     "text": [
      "No handles with labels found to put in legend.\n"
     ]
    },
    {
     "data": {
      "image/png": "[encoded data removed]",
      "text/plain": [
       "<Figure size 432x288 with 1 Axes>"
      ]
     },
     "metadata": {
      "needs_background": "light"
     },
     "output_type": "display_data"
    }
   ],
   "source": [
    "x = nominal_values(PvsMu.mu)\n",
    "y = nominal_values(PvsMu.p_vessel_dim)\n",
    "dy = std_devs(PvsMu.p_vessel_dim)\n",
    "dx = std_devs(PvsMu.mu)\n",
    "\n",
    "my_pwlf   = pwlf.PiecewiseLinFit( x , y )  #inicia alargeNozzlequí la sequencia del piecewiselinealfit \n",
    "res       = my_pwlf.fit( 2 ) \n",
    "\n",
    "xfit = np.linspace(0,max(x),100)\n",
    "yfit = my_pwlf.predict(xfit)\n",
    "\n",
    "plt.plot(x, y, 'or')\n",
    "plt.plot(xfit, yfit, '-', color='gray')\n",
    "plt.fill_betweenx(y, x - dx, x + dx,color='gray', alpha=0.2)\n",
    "plt.legend()\n",
    "plt.grid()"
   ]
  },
  {
   "cell_type": "code",
   "execution_count": 13,
   "metadata": {},
   "outputs": [],
   "source": [
    "x1         = pd.read_csv ( 'x1.csv' , sep = ';' )\n",
    "\n"
   ]
  },
  {
   "cell_type": "code",
   "execution_count": 14,
   "metadata": {},
   "outputs": [
    {
     "name": "stderr",
     "output_type": "stream",
     "text": [
      "No handles with labels found to put in legend.\n"
     ]
    },
    {
     "data": {
      "image/png": "[encoded data removed]",
      "text/plain": [
       "<Figure size 432x288 with 1 Axes>"
      ]
     },
     "metadata": {
      "needs_background": "light"
     },
     "output_type": "display_data"
    }
   ],
   "source": [
    "plt.plot(x, y, 'or')\n",
    "plt.plot(x1.x,x1.y, '-', color='gray')\n",
    "plt.plot(xfit, yfit, '-', color='gray')\n",
    "plt.fill_betweenx(y, x - dx, x + dx,color='gray', alpha=0.2)\n",
    "plt.legend()\n",
    "plt.grid()"
   ]
  },
  {
   "cell_type": "code",
   "execution_count": null,
   "metadata": {},
   "outputs": [],
   "source": []
  }
 ],
 "metadata": {
  "kernelspec": {
   "display_name": "Python 3",
   "language": "python",
   "name": "python3"
  },
  "language_info": {
   "codemirror_mode": {
    "name": "ipython",
    "version": 3
   },
   "file_extension": ".py",
   "mimetype": "text/x-python",
   "name": "python",
   "nbconvert_exporter": "python",
   "pygments_lexer": "ipython3",
   "version": "3.7.6"
  }
 },
 "nbformat": 4,
 "nbformat_minor": 4
}
