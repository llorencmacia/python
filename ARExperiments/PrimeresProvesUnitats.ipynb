{
 "cells": [
  {
   "cell_type": "code",
   "execution_count": 1,
   "metadata": {},
   "outputs": [
    {
     "ename": "NameError",
     "evalue": "name 'u' is not defined",
     "output_type": "error",
     "traceback": [
      "\u001b[0;31m---------------------------------------------------------------------------\u001b[0m",
      "\u001b[0;31mNameError\u001b[0m                                 Traceback (most recent call last)",
      "\u001b[0;32m<ipython-input-1-46edb295250d>\u001b[0m in \u001b[0;36m<module>\u001b[0;34m\u001b[0m\n\u001b[1;32m      1\u001b[0m \u001b[0;31m#massa_molar_aire = 28.96E-3 *u.kg *u.mol**-1\u001b[0m\u001b[0;34m\u001b[0m\u001b[0;34m\u001b[0m\u001b[0;34m\u001b[0m\u001b[0m\n\u001b[1;32m      2\u001b[0m \u001b[0;34m\u001b[0m\u001b[0m\n\u001b[0;32m----> 3\u001b[0;31m \u001b[0mR_gasos\u001b[0m \u001b[0;34m=\u001b[0m \u001b[0;36m8.3144621\u001b[0m \u001b[0;34m*\u001b[0m\u001b[0mu\u001b[0m\u001b[0;34m.\u001b[0m\u001b[0mjoule\u001b[0m \u001b[0;34m*\u001b[0m \u001b[0mu\u001b[0m\u001b[0;34m.\u001b[0m\u001b[0mK\u001b[0m\u001b[0;34m**\u001b[0m\u001b[0;34m-\u001b[0m\u001b[0;36m1\u001b[0m \u001b[0;34m*\u001b[0m\u001b[0mu\u001b[0m\u001b[0;34m.\u001b[0m\u001b[0mmol\u001b[0m\u001b[0;34m**\u001b[0m\u001b[0;34m-\u001b[0m\u001b[0;36m1\u001b[0m\u001b[0;34m\u001b[0m\u001b[0;34m\u001b[0m\u001b[0m\n\u001b[0m\u001b[1;32m      4\u001b[0m \u001b[0mmu\u001b[0m \u001b[0;34m=\u001b[0m \u001b[0;36m1.38e-5\u001b[0m \u001b[0;34m*\u001b[0m\u001b[0mu\u001b[0m\u001b[0;34m.\u001b[0m\u001b[0mPa\u001b[0m \u001b[0;34m*\u001b[0m\u001b[0mu\u001b[0m\u001b[0;34m.\u001b[0m\u001b[0ms\u001b[0m   \u001b[0;31m# és a 18ºC\u001b[0m\u001b[0;34m\u001b[0m\u001b[0;34m\u001b[0m\u001b[0m\n\u001b[1;32m      5\u001b[0m \u001b[0mPatm\u001b[0m \u001b[0;34m=\u001b[0m \u001b[0;36m101325\u001b[0m \u001b[0;34m*\u001b[0m\u001b[0mu\u001b[0m\u001b[0;34m.\u001b[0m\u001b[0mPa\u001b[0m\u001b[0;34m\u001b[0m\u001b[0;34m\u001b[0m\u001b[0m\n",
      "\u001b[0;31mNameError\u001b[0m: name 'u' is not defined"
     ]
    }
   ],
   "source": [
    "#massa_molar_aire = 28.96E-3 *u.kg *u.mol**-1\n",
    "\n",
    "R_gasos = 8.3144621 *u.joule * u.K**-1 *u.mol**-1\n",
    "mu = 1.38e-5 *u.Pa *u.s   # és a 18ºC\n",
    "Patm = 101325 *u.Pa\n",
    "Tatm = 293.15 *u.K\n",
    "r_gas = R_gasos / massa_molar_aire\n",
    "rhoN =  Patm / ( r_gas* Tatm)\n",
    "#2. rhoN = Chemical('air', T= 20, P=101325 ).rho \n",
    "#1. rhoN = 1.16 *u.kg  /u.m**3\n",
    "#T1 = t_1 + kelvin_conversio\n",
    "# Preparació variables\n",
    "\n",
    "kelvin_conversio = 273.15 *u.K \n",
    "t_1 = 20 *u.delta_degC   #aquí no em deixa posar-li en celcius. O potser si però no ho he trobat. \n",
    "\n",
    "#En tot cas en delta degC i la conversió en K manté els kelvin\n",
    "#m = differential_pressure_meter_solver(D=D1, D2=Do, P1=P1, P2=P2, rho=rho_problema, mu=mu, k=k, meter_type=meter_type, taps=taps)\n"
   ]
  },
  {
   "cell_type": "code",
   "execution_count": null,
   "metadata": {},
   "outputs": [],
   "source": [
    "im"
   ]
  }
 ],
 "metadata": {
  "kernelspec": {
   "display_name": "Python 3",
   "language": "python",
   "name": "python3"
  },
  "language_info": {
   "codemirror_mode": {
    "name": "ipython",
    "version": 3
   },
   "file_extension": ".py",
   "mimetype": "text/x-python",
   "name": "python",
   "nbconvert_exporter": "python",
   "pygments_lexer": "ipython3",
   "version": "3.7.6"
  }
 },
 "nbformat": 4,
 "nbformat_minor": 4
}
