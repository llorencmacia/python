{
 "cells": [
  {
   "cell_type": "markdown",
   "metadata": {},
   "source": [
    "# Functions definition\n",
    "This functions calculates flow rate from a long radious nozzle. Which in our case it means: the secondary flow or the aspiration flow "
   ]
  },
  {
   "cell_type": "code",
   "execution_count": 1,
   "metadata": {},
   "outputs": [],
   "source": [
    "from   fluids               import *\n",
    "from   thermo               import Mixture\n",
    "from   scipy.constants      import atmosphere, zero_Celsius, mmHg, g\n",
    "import scipy                as     sci\n",
    "import uncertainties \n",
    "from   uncertainties        import *\n",
    "from   uncertainties.unumpy import *\n",
    "import uncertainties        as     unumpy\n",
    "from   numpy                import *\n",
    "from   pandas               import *\n",
    "import pandas               as     pd\n",
    "import matplotlib.pyplot    as     plt\n",
    "import pickle"
   ]
  },
  {
   "cell_type": "code",
   "execution_count": 2,
   "metadata": {},
   "outputs": [],
   "source": [
    "# For the calculation of flow rate with uncertainties:\n",
    "wrappedFlowMeter = uncertainties.wrap( differential_pressure_meter_solver)\n",
    "# Firsts definitions\n",
    "airN               = Mixture('air',T=293,P=101325)\n",
    "rhoN               = airN.rho"
   ]
  },
  {
   "cell_type": "code",
   "execution_count": 3,
   "metadata": {},
   "outputs": [],
   "source": [
    "#Here it is defined all our ambi \n",
    "def set_of_const  (P_amb , T_amb):\n",
    "            \n",
    "    P_amb     = P_amb * mmHg           # Pressure in Pa\n",
    "    T_amb     = T_amb + zero_Celsius   # T in K \n",
    "\n",
    "# Here we calculate all what it is important with the air at the ambient pressure\n",
    "    \n",
    "    air       = Mixture( 'air', T = T_amb , P = P_amb)\n",
    "    k         = air.isentropic_exponent\n",
    "    mu        = air.mu\n",
    "    rho       = air.rho\n",
    "    \n",
    "    return P_amb, T_amb, air, k , mu , rho"
   ]
  },
  {
   "cell_type": "code",
   "execution_count": 4,
   "metadata": {},
   "outputs": [],
   "source": [
    "# here we define the function that will calculate the secondary flow\n",
    "def flow_meter_calculator (flow_meter_calculator, mesures1 , mesures2 , manRelRho, DeltaH , Do , D1 , rho , k , mu , P_amb ):  \n",
    "\n",
    "# Experimental setup\n",
    "    taps                            = 'flange'\n",
    "    meter_type                      = 'long radius nozzle'\n",
    "    \n",
    "# Inci tractament de les dades\n",
    "#     flow_meter_calculator           = DataFrame()\n",
    "   \n",
    "    flow_meter_calculator['h1']     = uarray(mesures1 , DeltaH *ones(len (mesures1)))\n",
    "    flow_meter_calculator['h2']     = uarray(mesures2 , DeltaH *ones(len (mesures2)))\n",
    "    \n",
    "# ManRelRho is the relative density of the manometric fluid\n",
    "    flow_meter_calculator['p1']     = flow_meter_calculator.h2 * g * manRelRho # p1 is the bigger pressure, and \n",
    "    flow_meter_calculator['p2']     = flow_meter_calculator.h1 * g * manRelRho # p2 is the low pressure in the nozzle\n",
    "    flow_meter_calculator['DeltaP'] = flow_meter_calculator.p1 - flow_meter_calculator.p2\n",
    "\n",
    "# First we have to initialize the vector\n",
    "    mdot_s_1                        = uarray( zeros(len (mesures1)) , zeros(len (mesures1)) )\n",
    "\n",
    "    for i,row in flow_meter_calculator.iterrows():\n",
    "        \n",
    "        if nominal_value(row.DeltaP) != 0.0:             # Just to avoid division by 0 when DeltaP=0. .\n",
    "            P2                      = P_amb - row.DeltaP\n",
    "            mdot_s_1[i]             = wrappedFlowMeter(D =D1, D2 =Do, P1 =P_amb, P2 =P_amb-row.DeltaP, rho=rho, mu=mu, k=k, meter_type=meter_type, taps=taps)\n",
    "        else:\n",
    "            mdot_s_1[i]             = ufloat(0.0,0.0)\n",
    "\n",
    "    flow_meter_calculator['mdot_s'] = mdot_s_1\n",
    "    flow_meter_calculator['QN_s']   = flow_meter_calculator.mdot_s * 60000/rhoN #flow_meter_calculator.mdot_s*60000/rhoN \n",
    "    \n",
    "    return flow_meter_calculator"
   ]
  },
  {
   "cell_type": "code",
   "execution_count": 5,
   "metadata": {},
   "outputs": [],
   "source": [
    "# This function calculates the pressure in the vessel. It uses mercury.\n",
    "def pressure_v  (pressure_vessel, mesures1, mesures2, DeltaH_Hg , P_amb):\n",
    "    \n",
    "    pressure_vessel['h3']           = uarray( mesures1 , DeltaH_Hg * ones(len (mesures1)) )\n",
    "    pressure_vessel['h4']           = uarray( mesures2 , DeltaH_Hg * ones(len (mesures2)) )\n",
    "    pressure_vessel['p3']           = pressure_vessel.h3 * mmHg  #mmHg that it is been taken from scipy.constants\n",
    "    pressure_vessel['p4']           = pressure_vessel.h4 * mmHg\n",
    "    pressure_vessel['P_vessel']     = pressure_vessel.p3 - pressure_vessel.p4\n",
    "    pressure_vessel['P_vessel_dim'] = (P_amb - pressure_vessel.P_vessel) /P_amb\n",
    "    pressure_vessel['P_vess_AR']    = 100 - pressure_vessel.P_vessel_dim*100           # Aquí ho transportem al percentatge normal, per AR"
   ]
  },
  {
   "cell_type": "code",
   "execution_count": 6,
   "metadata": {},
   "outputs": [],
   "source": [
    "#Here it is calculated the flow consumtion, or the primary flow\n",
    "def mdot_f ( mdot_p , mesures1 , mesures2 , DeltaP , DeltaT , mesuresT , D1 , D2 ):\n",
    "\n",
    "    # Experimental setup\n",
    "    taps              = 'flange'\n",
    "    meter_type        = 'ISO 5167 orifice'  # meter_type = 'ISA 1932 nozzle'\n",
    "\n",
    "# First we have to initialize the vector   \n",
    "    mdot              = uarray( zeros(len (mesures1)) , zeros(len (mesures1)) )  \n",
    "\n",
    "# Here we inicialize the vectors with their uncertainties\n",
    "    p1                = uarray( mesures1 ,   DeltaP * ones(len (mesures1)) )\n",
    "    p2                = uarray( mesures2 ,   DeltaP * ones(len (mesures2)) )\n",
    "    T1                = uarray( mesuresT ,   DeltaT * ones(len (mesures1)) )\n",
    "# Here we start to carry the units as we need them     \n",
    "    T1                = T1 + zero_Celsius    # Temperature in KELVIN\n",
    "    p1                = ( p1 + 1 ) * 1e5     # Pressió en Pa, absoluts\n",
    "    p2                = ( p2 + 1 ) * 1e5\n",
    "\n",
    "    for i in range( len(mesures1) ):\n",
    "# l'aire es calcula amb cada valor de P i de T. IMPORTANT: el nominal_value aconsegueix fer-hi passar només el valor correcte.\n",
    "        air           = Mixture( 'air' , T = float(nominal_value (T1[i]) ) , P = float( nominal_value( p1[i]) ) )\n",
    "        r             = sci.constants.R / air.MW * 1000\n",
    "        k             = air.isentropic_exponent\n",
    "        mu            = air.mu\n",
    "        rho           = p1[i] / ( r * T1[i] )    \n",
    "#  Here is where we write the vector mdot\n",
    "        mdot[i]       = wrappedFlowMeter(D=D1, D2=D2, P1=p1[i], P2=p2[i], rho=rho, mu=mu, k=k, meter_type=meter_type, taps=taps)\n",
    "\n",
    "    mdot_p['mdot_p']  = mdot\n",
    "    mdot_p['QN_p']    = mdot_p.mdot_p * 60000 / rhoN\n",
    "    mdot_p['mu']      = mdot_p.QN_s / mdot_p.QN_p"
   ]
  },
  {
   "cell_type": "code",
   "execution_count": 7,
   "metadata": {},
   "outputs": [],
   "source": [
    "# Here I define the function that we will use for the numerical results\n",
    "def numDat    (mdot_s , mdot_p, p0_s , errNumSec , errNumPri ):\n",
    "\n",
    "#Here we first have to inicialize the variables. In this case has to be multiplied by 360/5=72 \n",
    "    mdot_s               = mdot_s*72\n",
    "    mdot_p               = mdot_p*72\n",
    "    mdot_f_s             = uarray( mdot_s , mdot_s * errNumSec)\n",
    "    mdot_f_p             = uarray( mdot_p , mdot_p * errNumPri)\n",
    "\n",
    "    # First we have to create the panda dataFrame\n",
    "    numDat               = DataFrame()\n",
    "    numDat['p0_s_dim']   = p0_s                     # These are the total pressure in the vessel\n",
    "    numDat['mdot_s']     = mdot_f_s\n",
    "    numDat['mdot_p']     = mdot_f_p  \n",
    "    numDat['p0_s_AR']    = 100 - numDat.p0_s_dim*100\n",
    "    \n",
    "# We transform the calculations into Nl/min\n",
    "    numDat['QN_s']       = numDat.mdot_s*60000/rhoN\n",
    "    numDat['QN_p']       = numDat.mdot_p*60000/rhoN\n",
    "# Finally we calculate the mu\n",
    "    numDat['mu']         = numDat.QN_s / numDat.QN_p\n",
    "\n",
    "    return numDat     "
   ]
  },
  {
   "cell_type": "code",
   "execution_count": 8,
   "metadata": {},
   "outputs": [],
   "source": [
    "def firstExperimentLabson (N, P_amb, T_amb ,manRelRho, DeltaH, DeltaH_Hg, DeltaP, DeltaT , D_s, D_p, Do_s, Do_p ):\n",
    "    nom = 'experiment'\n",
    "    Data = DataFrame()\n",
    "    Data = nom+'{}'.format(N)\n",
    "    Data = pd.read_csv ( '{}{}.csv'.format(nom,N) , sep = ',' )\n",
    "    \n",
    "    P_amb, T_amb, air , k , mu , rho = set_of_const (P_amb , T_amb)\n",
    "    \n",
    "    flow_meter_calculator (Data, Data.mesures1_s , Data.mesures2_s , manRelRho, DeltaH , Do_s , D_s , rho , k , mu, P_amb  )\n",
    "    pressure_v (Data , Data.mesures1_pv , Data.mesures2_pv , DeltaH_Hg, P_amb )\n",
    "    mdot_f (Data, Data.mesures1_p, Data.mesures2_p , Data.mesuresT , DeltaP , DeltaT  , D_p , Do_p )\n",
    "    \n",
    "    with open('{}.pickle' .format(N), 'wb')  as f:\n",
    "        pickle.dump( Data , f , pickle.HIGHEST_PROTOCOL )       # Pickle the 'data' dictionary using the highest protocol available.\n",
    "    "
   ]
  },
  {
   "cell_type": "code",
   "execution_count": 9,
   "metadata": {},
   "outputs": [],
   "source": [
    "def read_dades (dades):\n",
    "    with open('smallN1.pickle', 'rb') as f:\n",
    "        smallNozzleData1     = pickle.load(f)\n",
    "    "
   ]
  }
 ],
 "metadata": {
  "kernelspec": {
   "display_name": "Python 3",
   "language": "python",
   "name": "python3"
  },
  "language_info": {
   "codemirror_mode": {
    "name": "ipython",
    "version": 3
   },
   "file_extension": ".py",
   "mimetype": "text/x-python",
   "name": "python",
   "nbconvert_exporter": "python",
   "pygments_lexer": "ipython3",
   "version": "3.7.1"
  }
 },
 "nbformat": 4,
 "nbformat_minor": 2
}
