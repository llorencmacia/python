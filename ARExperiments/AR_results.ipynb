{
 "cells": [
  {
   "cell_type": "markdown",
   "metadata": {},
   "source": [
    "# Experimental design\n",
    "\n",
    "The objective of this little program is to, in every experimental data, upload the data, and, later, obtain the values of the flowRate, the vacuum level and its graphics. "
   ]
  },
  {
   "cell_type": "code",
   "execution_count": 1,
   "metadata": {},
   "outputs": [],
   "source": [
    "from   fluids               import *\n",
    "from   thermo               import Mixture\n",
    "from   scipy.constants      import atmosphere, zero_Celsius, mmHg, g\n",
    "import scipy                as     sci\n",
    "import uncertainties \n",
    "from   uncertainties        import *\n",
    "from   uncertainties.unumpy import *\n",
    "import uncertainties        as     unumpy\n",
    "from   numpy                import *\n",
    "from   pandas               import *\n",
    "import matplotlib.pyplot    as     plt"
   ]
  },
  {
   "cell_type": "code",
   "execution_count": 2,
   "metadata": {},
   "outputs": [],
   "source": [
    "# For the calculation of flow rate with uncertainties:\n",
    "wrappedFlowMeter = uncertainties.wrap( differential_pressure_meter_solver) "
   ]
  },
  {
   "cell_type": "markdown",
   "metadata": {},
   "source": [
    "## Functions definition\n",
    "This functions calculates flow rate from a long radious nozzle. Which in our case it means: the secondary flow or the aspiration flow "
   ]
  },
  {
   "cell_type": "code",
   "execution_count": 3,
   "metadata": {},
   "outputs": [],
   "source": [
    "def set_of_const  (P_amb , T_amb):\n",
    "            \n",
    "    P_amb     = P_amb * mmHg           # Pressure in Pa\n",
    "    T_amb     = T_amb + zero_Celsius   # T in K \n",
    "\n",
    "# Here we calculate all what it is important with the air at the ambient pressure\n",
    "    \n",
    "    air       = Mixture( 'air', T = T_amb , P = P_amb)\n",
    "    k         = air.isentropic_exponent\n",
    "    mu        = air.mu\n",
    "    rho       = air.rho\n",
    "    \n",
    "    return P_amb, T_amb, k , mu , rho"
   ]
  },
  {
   "cell_type": "code",
   "execution_count": 4,
   "metadata": {},
   "outputs": [],
   "source": [
    "def flow_meter_calculator (mesures1 , mesures2 , manRelRho, deltaH , Do , D1 , rho , k , mu  ):  \n",
    "\n",
    "# Experimental setup\n",
    "    taps                            = 'flange'\n",
    "    meter_type                      = 'long radius nozzle'\n",
    "    \n",
    "# Inci tractament de les dades\n",
    "    flow_meter_calculator           = DataFrame()\n",
    "    flow_meter_calculator['h1']     = uarray(mesures1 ,DeltaH*ones(len (mesures1)))\n",
    "    flow_meter_calculator['h2']     = uarray(mesures2 ,DeltaH*ones(len (mesures2)))\n",
    "    \n",
    "# ManRelRho is the relative density of the manometric fluid\n",
    "    flow_meter_calculator['p1']     = flow_meter_calculator.h2 * g * manRelRho # p1 is the bigger pressure, and \n",
    "    flow_meter_calculator['p2']     = flow_meter_calculator.h1 * g * manRelRho # p2 is the low pressure in the nozzle\n",
    "    flow_meter_calculator['DeltaP'] = flow_meter_calculator.p1 - flow_meter_calculator.p2\n",
    "\n",
    "# First we have to initialize the vector\n",
    "    mdot_s_1                        = uarray( zeros(len (mesures1)) , zeros(len (mesures1)) )\n",
    "\n",
    "    for i,row in flow_meter_calculator.iterrows():\n",
    "        \n",
    "        if nominal_value(row.DeltaP) != 0.0:             # Just to avoid division by 0 when DeltaP=0. .\n",
    "            P2                      = P_amb - row.DeltaP\n",
    "            mdot_s_1[i]             = wrappedFlowMeter(D =D1, D2 =Do, P1 =P_amb, P2 =P_amb-row.DeltaP, rho=rho, mu=mu, k=k, meter_type=meter_type, taps=taps)\n",
    "        else:\n",
    "            mdot_s_1[i]             = ufloat(0.0,0.0)\n",
    "\n",
    "    flow_meter_calculator['mdot_s'] = mdot_s_1\n",
    "    flow_meter_calculator['QN_s']   = flow_meter_calculator.mdot_s * 60000/rhoN #flow_meter_calculator.mdot_s*60000/rhoN \n",
    "    \n",
    "    return flow_meter_calculator"
   ]
  },
  {
   "cell_type": "markdown",
   "metadata": {},
   "source": [
    "This function calculates the pressure in the vessel. It uses mercury."
   ]
  },
  {
   "cell_type": "code",
   "execution_count": 5,
   "metadata": {},
   "outputs": [],
   "source": [
    "def pressure_v  (pressure_vessel, mesures1, mesures2, DeltaH_Hg , P_amb):\n",
    "    \n",
    "#     pressure_vessel                 = DataFrame()\n",
    "    pressure_vessel['h3']           = uarray( mesures1 , DeltaH_Hg * ones(len (mesures1)) )\n",
    "    pressure_vessel['h4']           = uarray( mesures2 , DeltaH_Hg * ones(len (mesures2)) )\n",
    "    pressure_vessel['p3']           = pressure_vessel.h3 * mmHg  #mmHg that it is been taken from scipy.constants\n",
    "    pressure_vessel['p4']           = pressure_vessel.h4 * mmHg\n",
    "    pressure_vessel['P_vessel']     = pressure_vessel.p3 - pressure_vessel.p4\n",
    "    pressure_vessel['P_vessel_dim'] = (P_amb - pressure_vessel.P_vessel) /P_amb\n",
    "    pressure_vessel['P_vess_AR']    = 100 - pressure_vessel.P_vessel_dim*100           # Aquí ho transportem al percentatge normal, per AR\n"
   ]
  },
  {
   "cell_type": "markdown",
   "metadata": {},
   "source": [
    "Here it is calculated the flow consumtion"
   ]
  },
  {
   "cell_type": "code",
   "execution_count": 6,
   "metadata": {},
   "outputs": [],
   "source": [
    "def mdot_f ( mdot_p , mesures1 , mesures2 , DeltaP , DeltaT , mesuresT , D1 , D2 ):\n",
    "\n",
    "    # Experimental setup\n",
    "    taps              = 'flange'\n",
    "    meter_type        = 'ISO 5167 orifice'  # meter_type = 'ISA 1932 nozzle'\n",
    "\n",
    "# First we have to initialize the vector   \n",
    "    mdot              = uarray( zeros(len (mesures1)) , zeros(len (mesures1)) )  \n",
    "\n",
    "# Here we inicialize the vectors with their uncertainties\n",
    "    p1                = uarray( mesures1 ,   DeltaP * ones(len (mesures1)) )\n",
    "    p2                = uarray( mesures2 ,   DeltaP * ones(len (mesures2)) )\n",
    "    T1                = uarray( mesuresT ,   DeltaT * ones(len (mesuresT)) )\n",
    "# Here we start to carry the units as we need them     \n",
    "    T1                = T1 + zero_Celsius    # Temperature in KELVIN\n",
    "    p1                = ( p1 + 1 ) * 1e5     # Pressió en Pa, absoluts\n",
    "    p2                = ( p2 + 1 ) * 1e5\n",
    "\n",
    "    for i in range( len(mesures1) ):\n",
    "# l'aire es calcula amb cada valor de P i de T. IMPORTANT: el nominal_value aconsegueix fer-hi passar només el valor correcte.\n",
    "        air           = Mixture( 'air' , T = float(nominal_value (T1[i]) ) , P = float( nominal_value( p1[i]) ) )\n",
    "        r             = sci.constants.R / air.MW * 1000\n",
    "        k             = air.isentropic_exponent\n",
    "        mu            = air.mu\n",
    "        rho           = p1[i] / ( r * T1[i] )    \n",
    "#  Here is where we write the vector mdot\n",
    "        mdot[i]       = wrappedFlowMeter(D=D1, D2=D2, P1=p1[i], P2=p2[i], rho=rho, mu=mu, k=k, meter_type=meter_type, taps=taps)\n",
    "\n",
    "    mdot_p['mdot_p']  = mdot\n",
    "    mdot_p['QN_p']    = mdot_p.mdot_p * 60000 / rhoN\n",
    "    mdot_p['mu']      = mdot_p.QN_s / mdot_p.QN_p"
   ]
  },
  {
   "cell_type": "markdown",
   "metadata": {},
   "source": [
    "Here I define the function that we will use for the numerical results"
   ]
  },
  {
   "cell_type": "code",
   "execution_count": 7,
   "metadata": {},
   "outputs": [],
   "source": [
    "def numDat    (mdot_s , mdot_p, p0_s , errNumSec , errNumPri ):\n",
    "\n",
    "#Here we first have to inicialize the variables. In this case has to be multiplied by 360/5=72 \n",
    "    mdot_s               = mdot_s*72\n",
    "    mdot_p               = mdot_p*72\n",
    "    mdot_f_s             = uarray( mdot_s , mdot_s * errNumSec)\n",
    "    mdot_f_p             = uarray( mdot_p , mdot_p * errNumPri)\n",
    "\n",
    "    # First we have to create the panda dataFrame\n",
    "    numDat               = DataFrame()\n",
    "    numDat['p0_s_dim']   = p0_s                     # These are the total pressure in the vessel\n",
    "    numDat['mdot_s']     = mdot_f_s\n",
    "    numDat['mdot_p']     = mdot_f_p  \n",
    "    numDat['p0_s_AR']    = 100 - numDat.p0_s_dim*100\n",
    "    \n",
    "# We transform the calculations into Nl/min\n",
    "    numDat['QN_s']       = numDat.mdot_s*60000/rhoN\n",
    "    numDat['QN_p']       = numDat.mdot_p*60000/rhoN\n",
    "# Finally we calculate the mu\n",
    "    numDat['mu']         = numDat.QN_s / numDat.QN_p\n",
    "\n",
    "    return numDat     "
   ]
  },
  {
   "cell_type": "markdown",
   "metadata": {},
   "source": [
    "## Calculation of flow rate. In order of experiment\n",
    "In the simulations we will call the aspiration flow rate as secondary flow rate. <br>\n",
    "In the simulations we will call the consumption flow as the primary flow rate <br>\n",
    "We will use the same but now for the value of the comsumption flow. Also , density is function of pressure, since here air is compressed. \n",
    "<br> Meter_type changes to ISO 5167, because in this measure, the nozzle is inside the pipe <br>\n",
    "Uncertainties and flow meter from the fluid package is used <br> <br> First of all we start to define our geometry of working"
   ]
  },
  {
   "cell_type": "code",
   "execution_count": 8,
   "metadata": {},
   "outputs": [],
   "source": [
    "# Uncertainties\n",
    "# Here I put all the uncertainties together\n",
    "\n",
    "DeltaH                    = 5           # uncertainty in pressure,in mm. abans n'hi havia 2\n",
    "DeltaH_Hg                 = 5           # uncertainty for mercury\n",
    "DeltaP                    = 0.01        # uncertainty in pressure, in bar\n",
    "DeltaT                    = 0.1         # uncertainty in kelvin\n",
    "DeltaMM                   = 20e-5        #uncertainty of measures of mm, expresed in meters\n",
    "\n",
    "# Here I put all the measures of the pipe and the diameter of the nozzle \n",
    "\n",
    "D1                        = ufloat( 22e-3   , DeltaMM)      # pipe diameter, for the large nozzle pressure in m\n",
    "D2                        = ufloat( 25e-3   , DeltaMM)      # pipe diameter, for the small nozzle pressure in m\n",
    "D3                        = ufloat( 22e-3   , DeltaMM)      # pipe diameter, m'imagino q és el diàmetre de la canonada\n",
    "Do_1                      = ufloat( 10.3e-3 , DeltaMM)      # orifice diameter in m (large nozzle)\n",
    "Do_2                      = ufloat( 5.15e-3 , DeltaMM)      # orifice diameter in m (small nozzle)\n",
    "Do_3                      = ufloat( 4.2e-3  , DeltaMM)      # sospito q és el diàmetre del nozzle del diafragma q calcula el consum"
   ]
  },
  {
   "cell_type": "markdown",
   "metadata": {},
   "source": [
    "First definitions "
   ]
  },
  {
   "cell_type": "code",
   "execution_count": 9,
   "metadata": {},
   "outputs": [],
   "source": [
    "airN                      = Mixture('air',T=293,P=101325)\n",
    "rhoN                      = airN.rho"
   ]
  },
  {
   "cell_type": "markdown",
   "metadata": {},
   "source": [
    "### First experiment \n",
    "<br>Date:            XX/xx/18          \n",
    "Nozzle:          Large nozzle\n",
    "<br>Fluid_secondary: Water\n",
    "<br>Made by:         Robert "
   ]
  },
  {
   "cell_type": "code",
   "execution_count": 10,
   "metadata": {},
   "outputs": [],
   "source": [
    "# First, definition of experimental conditions\n",
    "P_amb            = 745                  # Ambient pressure in mmHg\n",
    "T_amb            = 25                   # T in degrees\n",
    "# here we call the constants function in order to get our constants correctly according \n",
    "P_amb, T_amb, k , mu , rho = set_of_const (P_amb , T_amb)\n",
    "### The 11th measurement seems to be wrong\n",
    "mesures1         = [226,248,282,318,330,360,391,413,437,459,470]\n",
    "mesures2         = [717,694,659,624,613,582,551,529,504,484,470]\n",
    "manRelRho        = 1 #It is water\n",
    "largeNozzleData  = flow_meter_calculator (mesures1 , mesures2 , manRelRho, DeltaH , Do_1 , D1 , rho , k , mu  )\n",
    "\n",
    "mesures1         = [1176,1187,1211,1233,1248,1267,1296,1334,1363,1410,1463]\n",
    "mesures2         = [1143,1131,1109,1087,1072,1053,1024,988,960,913,860]\n",
    "pressure_v (largeNozzleData,mesures1 , mesures2, DeltaH_Hg, P_amb )\n",
    "\n",
    "mesures1        = [6.72,6.72,6.71,6.72,6.70,6.70,6.70,6.69,6.69,6.69,6.69]\n",
    "mesures2        = [6.00,6.01,6.00,6.01,6.00,6.00,6.00,6.00,6.00,5.99,6.00]\n",
    "mesuresT        = [18.0,18.0,18.1,18.2,19.1,19.1,19.2,19.3,19.5,19.6,19.6]\n",
    "mdot_f ( largeNozzleData, mesures1, mesures2, DeltaP , DeltaT , mesuresT , D3 , Do_3 )"
   ]
  },
  {
   "cell_type": "markdown",
   "metadata": {},
   "source": [
    "###  Second experiment\n",
    "\n",
    "<br>Date:&nbsp;&nbsp;&nbsp;&nbsp;&nbsp;&nbsp;&nbsp;&nbsp;&nbsp;&nbsp;&nbsp;&nbsp;&nbsp;&nbsp;&nbsp;&nbsp;&nbsp;&nbsp;&nbsp;XX/xx/18          \n",
    "Nozzle: &nbsp;&nbsp;&nbsp;&nbsp;&nbsp;&nbsp;&nbsp;&nbsp;&nbsp;&nbsp;&nbsp;&nbsp; Small nozzle\n",
    "<br>Fluid_secondary: Water\n",
    "<br>Made by:&nbsp;&nbsp;&nbsp;&nbsp;&nbsp;&nbsp;&nbsp;&nbsp;&nbsp;&nbsp;&nbsp;&nbsp;Robert "
   ]
  },
  {
   "cell_type": "code",
   "execution_count": 11,
   "metadata": {},
   "outputs": [],
   "source": [
    "# First, definition of experimental conditions\n",
    "P_amb     = 750                  # Ambient pressure in mmHg\n",
    "T_amb     = 25                   # T in degrees\n",
    "\n",
    "P_amb, T_amb, k , mu , rho = set_of_const (P_amb , T_amb)\n",
    "# Entada dels valors de les lectures\n",
    "mesures1                  = [ 411,373,331,281,221,169,124,78,15 ]\n",
    "mesures2                  = [ 509,548,590,642,702,752,799,843,901 ]\n",
    "manRelRho                 = 1   # It is water\n",
    "# Here we calculate \n",
    "smallNozzleData1          = flow_meter_calculator (mesures1 , mesures2 , manRelRho, DeltaH ,Do_2 , D2 , rho , k , mu  )\n",
    "\n",
    "mesures1                  = [799,784,774,767,757,749,743,739,734]\n",
    "mesures2                  = [227,240,252,256,268,276,281,286,290]\n",
    "\n",
    "pressure_v (smallNozzleData1, mesures1 , mesures2, DeltaH_Hg, P_amb )\n",
    "\n",
    "#dades 2a mesura (small nozzle)\n",
    "mesures1                  = [6.67,6.67,6.67,6.69,6.67,6.70,6.72,6.67,6.67]\n",
    "mesures2                  = [6.03,6.05,6.03,6.06,6.02,6.07,6.05,6.05,6.04]\n",
    "T1                        = [24.5,24.6,24.6,24.7,24.8,24.9,25.0,25.1,25.0]\n",
    "mdot_f ( smallNozzleData1, mesures1, mesures2, DeltaP , DeltaT , T1 ,D3 , Do_3 )"
   ]
  },
  {
   "cell_type": "markdown",
   "metadata": {},
   "source": [
    "### Third experiment\n",
    "\n",
    "<br>Date:&nbsp;&nbsp;&nbsp;&nbsp;&nbsp;&nbsp;&nbsp;&nbsp;&nbsp;&nbsp;&nbsp;&nbsp;&nbsp;&nbsp;&nbsp;&nbsp;&nbsp;&nbsp;&nbsp;30/11/18          \n",
    "Nozzle: &nbsp;&nbsp;&nbsp;&nbsp;&nbsp;&nbsp;&nbsp;&nbsp;&nbsp;&nbsp;&nbsp;&nbsp; Small nozzle\n",
    "<br>Fluid_secondary: Alcohol\n",
    "<br>Made by:&nbsp;&nbsp;&nbsp;&nbsp;&nbsp;&nbsp;&nbsp;&nbsp;&nbsp;&nbsp;&nbsp;&nbsp;LMacia"
   ]
  },
  {
   "cell_type": "code",
   "execution_count": 12,
   "metadata": {},
   "outputs": [],
   "source": [
    "# First, definition of experimental conditions\n",
    "P_amb     = 739\n",
    "# Ambient pressure in mmHg\n",
    "T_amb     = 25                   # T in degrees les lectures\n",
    "P_amb, T_amb, k , mu , rho = set_of_const (P_amb , T_amb)\n",
    "# Entada dels valors de les lectures\n",
    "mesures1         = [249,247,213,227,220,205,153,150,90]\n",
    "mesures2         = [251,254,279,254,261,290,342,345,403]\n",
    "manRelRho        = 0.7918   # It is alcohol\n",
    "smallNozzleData2 = flow_meter_calculator (mesures1 , mesures2 , manRelRho, DeltaH , Do_2 , D2 , rho , k , mu  )\n",
    "\n",
    "mesures1         = [810,811,799,805,801,793,787,779,775]\n",
    "mesures2         = [218,211,221,218,221,228,236,243,248]\n",
    "pressure_v (smallNozzleData2, mesures1 , mesures2, DeltaH_Hg, P_amb )\n",
    "\n",
    "mesures1         = [6.67,6.67,6.67,6.69,6.67,6.70,6.72,6.67,6.67]\n",
    "mesures2         = [6.03,6.05,6.03,6.06,6.02,6.07,6.05,6.05,6.04]\n",
    "T1               = [24.9,25.0,24.6,24.7,24.8,24.9,25.0,25.1,25]\n",
    "\n",
    "mdot_f ( smallNozzleData2, mesures1, mesures2, DeltaP , DeltaT , T1 , D3 , Do_3 )"
   ]
  },
  {
   "cell_type": "markdown",
   "metadata": {},
   "source": [
    "Càlcul de la K"
   ]
  },
  {
   "cell_type": "code",
   "execution_count": null,
   "metadata": {},
   "outputs": [],
   "source": []
  },
  {
   "cell_type": "markdown",
   "metadata": {},
   "source": [
    "## Numerical results obtained with the two solvers\n",
    "\n",
    "First we introduce the errors considered that we have in the flow Rates"
   ]
  },
  {
   "cell_type": "code",
   "execution_count": 13,
   "metadata": {},
   "outputs": [],
   "source": [
    "errNumSec = 0.004\n",
    "errNumPri = 0.003"
   ]
  },
  {
   "cell_type": "markdown",
   "metadata": {},
   "source": [
    "### HiSA"
   ]
  },
  {
   "cell_type": "code",
   "execution_count": 14,
   "metadata": {},
   "outputs": [],
   "source": [
    "# These are the total pressure in the vessel\n",
    "p0_s                 = array([100,80,60,40,30,27.5,25,21.73])/100\n",
    "mdot_s               = array([1.30,1.03,0.73,0.45,0.33,0.26,0.14,0.0])*1e-4\n",
    "mdot_p               = array([1.315,1.314,1.314,1.314,1.314,1.314,1.314,1.314])*1e-4\n",
    "\n",
    "numData              = numDat( mdot_s , mdot_p, p0_s , errNumSec , errNumPri )"
   ]
  },
  {
   "cell_type": "markdown",
   "metadata": {},
   "source": [
    "### rhoCentralFoam"
   ]
  },
  {
   "cell_type": "code",
   "execution_count": 15,
   "metadata": {},
   "outputs": [],
   "source": [
    "p0RCF_s                = array([100,80,70,60,50,40,30,20]) /100\n",
    "#This is the calculated flow rate for variable ps\n",
    "mdotRCF_s              = array([1.21,0.94,0.81,0.69,0.56,0.44,0.35,0.18]) *1e-4\n",
    "mdotRCF_p              = array([1.31,1.31,1.31,1.31,1.31,1.31,1.31,1.31])*1e-4\n",
    "\n",
    "numDataRCF             = numDat( mdotRCF_s ,mdotRCF_p, p0RCF_s , errNumSec , errNumPri )"
   ]
  },
  {
   "cell_type": "markdown",
   "metadata": {},
   "source": [
    "## Graphics"
   ]
  },
  {
   "cell_type": "code",
   "execution_count": 16,
   "metadata": {},
   "outputs": [
    {
     "data": {
      "application/vnd.jupyter.widget-view+json": {
       "model_id": "349f4dbddf474dde95293374e5264cdb",
       "version_major": 2,
       "version_minor": 0
      },
      "text/plain": [
       "FigureCanvasNbAgg()"
      ]
     },
     "metadata": {},
     "output_type": "display_data"
    },
    {
     "data": {
      "text/plain": [
       "<matplotlib.legend.Legend at 0x7efd9f2c0208>"
      ]
     },
     "execution_count": 16,
     "metadata": {},
     "output_type": "execute_result"
    }
   ],
   "source": [
    "# Gràcies a aquest widget ens permet veure les gràfiques millor\n",
    "%matplotlib widget     \n",
    "\n",
    "fig  = plt.figure()               # Aquí es crea la instància de la immatge\n",
    "fig1 = fig.add_subplot(1,1,1)     # aquí li indiquem que n'hi haurà una\n",
    "\n",
    "fig1.errorbar(y    = nominal_values(smallNozzleData1.QN_s) , x     = nominal_values(smallNozzleData1.P_vess_AR),\\\n",
    "              yerr = std_devs(smallNozzleData1.QN_s)       , xerr  = std_devs(smallNozzleData1.P_vess_AR),\\\n",
    "              fmt  = 's'                                   , label = \"Experimental Small nozzle 1\")\n",
    "\n",
    "fig1.errorbar( y   = nominal_values(smallNozzleData2.QN_s) , x     = nominal_values(smallNozzleData2.P_vess_AR),\\\n",
    "              yerr = std_devs(smallNozzleData2.QN_s)       , xerr  = std_devs(smallNozzleData2.P_vess_AR),\\\n",
    "              fmt  = 's'                                   , label = \"Experimental Small nozzle 2\")\n",
    "\n",
    "fig1.errorbar( y   = nominal_values(largeNozzleData.QN_s)  ,  x    = nominal_values(largeNozzleData.P_vess_AR),\\\n",
    "              yerr = std_devs(largeNozzleData.QN_s)        ,  xerr = std_devs(largeNozzleData.P_vess_AR),\\\n",
    "              fmt  = 'o'                                   , label = \"Experimental Large nozzle\")\n",
    "\n",
    "fig1.errorbar( y   = nominal_values(numData.QN_s)          , x     = nominal_values(numData.p0_s_AR),\\\n",
    "              yerr = std_devs(numData.QN_s)                , xerr  = std_devs(numData.p0_s_AR),\\\n",
    "              fmt  = 'v'                                   , label =\"Numerical\")\n",
    "\n",
    "fig1.errorbar( y   = nominal_values(numDataRCF.QN_s)       , x     = nominal_values(numDataRCF.p0_s_AR), \\\n",
    "              yerr = std_devs(numDataRCF.QN_s)             , xerr  = std_devs(numDataRCF.p0_s_AR),\\\n",
    "              fmt  = 'v'                                   , label = \"Numerical RCF\")\n",
    "\n",
    "plt.xlabel(\"Experimental Results vs Numerical Results \")\n",
    "\n",
    "# plt.xticks(np.arange(0.18, 0.4, 0.1))\n",
    "# plt.yticks(np.arange(  min(nominal_value(largeNozzleData.QN_s)), max(nominal_value(largeNozzleData.QN_s)), 0.1))\n",
    "# plt.xticks(np.arange(min(nominal_values(largeNozzleData.P_vessel_dim)), max(nominal_values(largeNozzleData.P_vessel_dim)), 0.1))\n",
    "\n",
    "# plt.gca().invert_xaxis()   # Gràcies a aquesta comanda m'ha permes girar l'eix X i aconseguir veure-ho com ho vol veure el sergi\n",
    "fig1.set_xlabel('Depression [%]')\n",
    "fig1.set_ylabel('NL/min')\n",
    "axes = plt.gca()\n",
    "\n",
    "# axes.set_xlim([ 70 , 83 ])\n",
    "# axes.set_ylim([ -2 , 100 ])\n",
    "\n",
    "plt.grid()                 # Ara ens mostrarà les gràfiques \n",
    "fig1.legend()              # Mostra la llegenda"
   ]
  },
  {
   "cell_type": "code",
   "execution_count": 24,
   "metadata": {},
   "outputs": [
    {
     "data": {
      "application/vnd.jupyter.widget-view+json": {
       "model_id": "8a8046fd86db496aa036f209c75a6dc3",
       "version_major": 2,
       "version_minor": 0
      },
      "text/plain": [
       "FigureCanvasNbAgg()"
      ]
     },
     "metadata": {},
     "output_type": "display_data"
    }
   ],
   "source": [
    "mufig  = plt.figure()\n",
    "mufig1 = mufig.add_subplot(1,1,1)\n",
    "\n",
    "mufig1.errorbar( x  = nominal_values(smallNozzleData1.mu) , y     = nominal_values(smallNozzleData1.P_vessel_dim),\\\n",
    "               xerr = std_devs(smallNozzleData1.mu)       , yerr  = std_devs(smallNozzleData1.P_vessel_dim),\\\n",
    "               fmt  ='s'                                  , label =\"Experimental Small nozzle 1\")\n",
    "\n",
    "mufig1.errorbar( x = nominal_values(smallNozzleData2.mu)  , y     = nominal_values(smallNozzleData2.P_vessel_dim),\\\n",
    "              xerr = std_devs(smallNozzleData2.mu)        , yerr  = std_devs(smallNozzleData2.P_vessel_dim),\\\n",
    "              fmt  ='s'                                   , label = \"Experimental Small nozzle 2\")\n",
    "\n",
    "mufig1.errorbar( x = nominal_values(largeNozzleData.mu)   , y     = nominal_values(largeNozzleData.P_vessel_dim),\\\n",
    "              xerr = std_devs(largeNozzleData.mu)         , yerr  = std_devs(largeNozzleData.P_vessel_dim),\\\n",
    "              fmt  ='4'                                   , label = \"Experimental Large nozzle\")\n",
    "\n",
    "mufig1.errorbar( x  = nominal_values(numData.mu)          , y     = nominal_values(numData.p0_s_dim),\\\n",
    "              xerr  = std_devs(numData.mu)                , yerr  = std_devs(numData.p0_s_dim),\\\n",
    "                fmt = 'v'                                 , label = \"Numerical HiSA\")\n",
    "\n",
    "mufig1.errorbar( x = nominal_values(numDataRCF.mu)        , y     = nominal_values(numDataRCF.p0_s_dim),\\\n",
    "              xerr = std_devs(numDataRCF.mu)              , yerr  = std_devs(numDataRCF.p0_s_dim),\n",
    "                fmt = 'v'                                 , label =\"Numerical RCF\")\n",
    "\n",
    "mufig1.set_xlabel('$\\mu$')\n",
    "mufig1.set_ylabel('$P_s^*$')\n",
    "\n",
    "mufig1.legend()\n",
    "plt.grid() \n",
    "\n",
    "# plt.gca().invert_xaxis()\n",
    "# mufig.savefig(fname=\"mu_vs_p_ast.pdf\")"
   ]
  },
  {
   "cell_type": "code",
   "execution_count": 18,
   "metadata": {},
   "outputs": [
    {
     "data": {
      "application/vnd.jupyter.widget-view+json": {
       "model_id": "9b685b8ceffc4cdea807f348e3160677",
       "version_major": 2,
       "version_minor": 0
      },
      "text/plain": [
       "FigureCanvasNbAgg()"
      ]
     },
     "metadata": {},
     "output_type": "display_data"
    },
    {
     "data": {
      "text/plain": [
       "<matplotlib.legend.Legend at 0x7efd9f215c18>"
      ]
     },
     "execution_count": 18,
     "metadata": {},
     "output_type": "execute_result"
    }
   ],
   "source": [
    "fig2 = plt.figure()\n",
    "fig22 = fig2.add_subplot(1,1,1)\n",
    "\n",
    "fig22.errorbar( x   = nominal_values(smallNozzleData1.QN_s) , y     = nominal_values(smallNozzleData1.P_vessel_dim),\\\n",
    "              xerr = std_devs(smallNozzleData1.QN_s)       , yerr  = std_devs(smallNozzleData1.P_vessel_dim),\\\n",
    "              fmt  ='s'                                    , label = \"Experimental Small nozzle 1\")\n",
    " \n",
    "fig22.errorbar( x   = nominal_values(smallNozzleData2.QN_s) , y     = nominal_values(smallNozzleData2.P_vessel_dim),\\\n",
    "              xerr = std_devs(smallNozzleData2.QN_s)       , yerr  = std_devs(smallNozzleData2.P_vessel_dim),\\\n",
    "              fmt  = 's'                                   , label = \"Experimental Small nozzle 2\")\n",
    "\n",
    "fig22.errorbar( x   = nominal_values(largeNozzleData.QN_s) , y     = nominal_values(largeNozzleData.P_vessel_dim),\\\n",
    "              xerr = std_devs(largeNozzleData.QN_s)       , yerr  = std_devs(largeNozzleData.P_vessel_dim),\\\n",
    "              fmt  = 'o'                                  , label =\"Experimental Large nozzle\")\n",
    "\n",
    "plt.xlabel(\"first results\")\n",
    "plt.grid() \n",
    "plt.gca().invert_xaxis()\n",
    "axes = plt.gca()\n",
    "axes.set_xlim([ 500 , 400])\n",
    "fig22.legend()"
   ]
  },
  {
   "cell_type": "markdown",
   "metadata": {},
   "source": [
    "### This is the way to pass a pandas object (with uncertainty) to another program through a file\n",
    "With the \"pickle\" method. See https://docs.python.org/3/library/pickle.html"
   ]
  },
  {
   "cell_type": "code",
   "execution_count": 19,
   "metadata": {},
   "outputs": [],
   "source": [
    "import pickle\n",
    "\n",
    "expNozzleData = pd.concat( [ smallNozzleData2 , smallNozzleData1 , largeNozzleData ] , ignore_index = 'True' )\n",
    "\n",
    "with open('mdotLABSONvsPressure.pickle', 'wb') as f:\n",
    "    \n",
    "    pickle.dump( expNozzleData , f , pickle.HIGHEST_PROTOCOL )       # Pickle the 'data' dictionary using the highest protocol available."
   ]
  },
  {
   "cell_type": "code",
   "execution_count": 20,
   "metadata": {},
   "outputs": [
    {
     "data": {
      "application/vnd.jupyter.widget-view+json": {
       "model_id": "13eef7022f324001b35c070778acfc6e",
       "version_major": 2,
       "version_minor": 0
      },
      "text/plain": [
       "FigureCanvasNbAgg()"
      ]
     },
     "metadata": {},
     "output_type": "display_data"
    },
    {
     "data": {
      "text/plain": [
       "<matplotlib.legend.Legend at 0x7efd9f17ccc0>"
      ]
     },
     "execution_count": 20,
     "metadata": {},
     "output_type": "execute_result"
    }
   ],
   "source": [
    "fig3 = plt.figure()\n",
    "fig33 = fig3.add_subplot(1,1,1)\n",
    "# wrappedGradient = uncertainties.wrap( np.gradient) \n",
    "largeNozzleData  ['der']    = np.gradient(nominal_values( largeNozzleData.P_vessel_dim) , nominal_values( largeNozzleData.QN_s))\n",
    "smallNozzleData1 ['der']    = np.gradient(nominal_values(smallNozzleData1.P_vessel_dim) , nominal_values(smallNozzleData1.QN_s))\n",
    "smallNozzleData2 ['der']    = np.gradient(nominal_values(smallNozzleData2.P_vessel_dim) , nominal_values(smallNozzleData2.QN_s))\n",
    "\n",
    "\n",
    "fig33.errorbar( x   = nominal_values(smallNozzleData1.QN_s) , y     = nominal_values(smallNozzleData1.der),\\\n",
    "               xerr = std_devs(smallNozzleData1.QN_s)       , yerr  = std_devs(smallNozzleData1.der),\\\n",
    "               fmt  ='s'                                    , label = \"Experimental Small nozzle 1\")\n",
    " \n",
    "fig33.errorbar( x   = nominal_values(smallNozzleData2.QN_s) , y     = nominal_values(smallNozzleData2.der),\\\n",
    "                xerr = std_devs(smallNozzleData2.QN_s)       , yerr  = std_devs(smallNozzleData2.der),\\\n",
    "                fmt  = 's'                                   , label = \"Experimental Small nozzle 2\")\n",
    " \n",
    "fig33.errorbar( x   = nominal_values(largeNozzleData.QN_s) , y     = nominal_values(largeNozzleData.der),\\\n",
    "              xerr = std_devs(largeNozzleData.QN_s)       , yerr  = std_devs(largeNozzleData.der),\\\n",
    "              fmt  = 'o'                                  , label =\"Experimental Large nozzle\")\n",
    "\n",
    "# fig33.errorbar( x   = nominal_values(largeNozzleData.QN_s) , y     = nominal_values(largeNozzleData.P_vessel_dim),\\\n",
    "#                xerr = std_devs(largeNozzleData.QN_s)       , yerr  = std_devs(largeNozzleData.P_vessel_dim),\\\n",
    "#                fmt  = 'o'                                  , label =\"Experimental Large nozzle\")\n",
    "\n",
    "plt.xlabel(\"Derivada de P respecte Q\")\n",
    "plt.grid() \n",
    "plt.gca().invert_xaxis()\n",
    "fig33.legend()"
   ]
  },
  {
   "cell_type": "code",
   "execution_count": 21,
   "metadata": {},
   "outputs": [
    {
     "name": "stdout",
     "output_type": "stream",
     "text": [
      "   p0_s_dim               mdot_s               mdot_p  p0_s_AR          QN_s  \\\n",
      "0    1.0000    0.00936+/-0.00004  0.009468+/-0.000028     0.00   466.0+/-1.9   \n",
      "1    0.8000  0.007416+/-0.000030  0.009461+/-0.000028    20.00   369.2+/-1.5   \n",
      "2    0.6000  0.005256+/-0.000021  0.009461+/-0.000028    40.00   261.7+/-1.0   \n",
      "3    0.4000  0.003240+/-0.000013  0.009461+/-0.000028    60.00   161.3+/-0.6   \n",
      "4    0.3000  0.002376+/-0.000010  0.009461+/-0.000028    70.00   118.3+/-0.5   \n",
      "5    0.2750  0.001872+/-0.000007  0.009461+/-0.000028    72.50    93.2+/-0.4   \n",
      "6    0.2500  0.001008+/-0.000004  0.009461+/-0.000028    75.00  50.18+/-0.20   \n",
      "7    0.2173              0.0+/-0  0.009461+/-0.000028    78.27       0.0+/-0   \n",
      "\n",
      "          QN_p               mu  \n",
      "0  471.4+/-1.4    0.989+/-0.005  \n",
      "1  471.0+/-1.4    0.784+/-0.004  \n",
      "2  471.0+/-1.4  0.5556+/-0.0028  \n",
      "3  471.0+/-1.4  0.3425+/-0.0017  \n",
      "4  471.0+/-1.4  0.2511+/-0.0013  \n",
      "5  471.0+/-1.4  0.1979+/-0.0010  \n",
      "6  471.0+/-1.4  0.1065+/-0.0005  \n",
      "7  471.0+/-1.4          0.0+/-0  \n"
     ]
    }
   ],
   "source": [
    "print (numData)"
   ]
  },
  {
   "cell_type": "code",
   "execution_count": 22,
   "metadata": {},
   "outputs": [
    {
     "name": "stdout",
     "output_type": "stream",
     "text": [
      "0.00043018155388950373 0.000339003144009573\n"
     ]
    }
   ],
   "source": [
    "print(np.std(largeNozzleData.der),np.std(smallNozzleData1.der))"
   ]
  },
  {
   "cell_type": "code",
   "execution_count": 23,
   "metadata": {},
   "outputs": [
    {
     "data": {
      "application/vnd.jupyter.widget-view+json": {
       "model_id": "c796e0f8ab8d42a88dab8775b86d7d04",
       "version_major": 2,
       "version_minor": 0
      },
      "text/plain": [
       "FigureCanvasNbAgg()"
      ]
     },
     "metadata": {},
     "output_type": "display_data"
    },
    {
     "data": {
      "text/plain": [
       "<matplotlib.legend.Legend at 0x7efd9f1329b0>"
      ]
     },
     "execution_count": 23,
     "metadata": {},
     "output_type": "execute_result"
    }
   ],
   "source": [
    "fig4 = plt.figure()\n",
    "fig44 = fig4.add_subplot(1,1,1)\n",
    "# wrappedGradient = uncertainties.wrap( np.gradient) \n",
    "numData    ['der']  = np.gradient(nominal_values(numData.p0_s_AR) , nominal_values( numData.mdot_s))\n",
    "# numDataRCF ['der']  = np.gradient(nominal_values(numDataRCF.p0_s_AR) , nominal_values(numDataRCF.QN_s))\n",
    "\n",
    "\n",
    "fig44.errorbar( x   = nominal_values(numData.mu) , y     = nominal_values(numData.der),\\\n",
    "               xerr = std_devs(numData.mu)      , yerr  = std_devs(numData.der),\\\n",
    "               fmt  ='s'                                    , label = \"Numerical HiSA \")\n",
    " \n",
    "# fig33.errorbar( x   = nominal_values(smallNozzleData2.QN_s) , y     = nominal_values(smallNozzleData2.der),\\\n",
    "#                xerr = std_devs(smallNozzleData2.QN_s)       , yerr  = std_devs(smallNozzleData2.der),\\\n",
    "#                fmt  = 's'                                   , label = \"Experimental Small nozzle 2\")\n",
    "# \n",
    "# fig44.errorbar( x   = nominal_values(numDataRCF.QN_s) , y     = nominal_values(numDataRCF.der),\\\n",
    "#               xerr = std_devs(numDataRCF.QN_s)       , yerr  = std_devs(numDataRCF.der),\\\n",
    "#               fmt  = 'o'                                  , label =\"rhoCentralFoam\")\n",
    "\n",
    "# fig33.errorbar( x   = nominal_values(largeNozzleData.QN_s) , y     = nominal_values(largeNozzleData.P_vessel_dim),\\\n",
    "#                xerr = std_devs(largeNozzleData.QN_s)       , yerr  = std_devs(largeNozzleData.P_vessel_dim),\\\n",
    "#                fmt  = 'o'                                  , label =\"Experimental Large nozzle\")\n",
    "\n",
    "plt.xlabel(\"Q  NL/min\")\n",
    "plt.title(\"Derivada dels valors numèrics\")\n",
    "plt.grid() \n",
    "axes= plt.gca()\n",
    "plt.gca().invert_xaxis()\n",
    "axes.set_xlim([ 0.24 , 0.3 ])\n",
    "axes.set_ylim([ -7000 , -8000 ])\n",
    "fig44.legend()"
   ]
  }
 ],
 "metadata": {
  "kernelspec": {
   "display_name": "Python 3",
   "language": "python",
   "name": "python3"
  },
  "language_info": {
   "codemirror_mode": {
    "name": "ipython",
    "version": 3
   },
   "file_extension": ".py",
   "mimetype": "text/x-python",
   "name": "python",
   "nbconvert_exporter": "python",
   "pygments_lexer": "ipython3",
   "version": "3.7.6"
  }
 },
 "nbformat": 4,
 "nbformat_minor": 4
}
