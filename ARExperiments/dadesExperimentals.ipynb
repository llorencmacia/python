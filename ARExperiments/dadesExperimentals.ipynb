{
 "cells": [
  {
   "cell_type": "markdown",
   "metadata": {},
   "source": [
    "# Experimental design\n",
    "\n",
    "The objective of this little program is to, in every experimental data, upload the data, and, later, obtain the values of the flowRate, the vacuum level and its graphics. "
   ]
  },
  {
   "cell_type": "code",
   "execution_count": 1,
   "metadata": {},
   "outputs": [],
   "source": [
    "from   functions            import *"
   ]
  },
  {
   "cell_type": "markdown",
   "metadata": {},
   "source": [
    "## Calculation of flow rate. \n",
    "In the simulations we will call the aspiration flow rate as secondary flow rate. <br>\n",
    "In the simulations we will call the consumption flow as the primary flow rate <br>\n",
    "We will use the same but now for the value of the comsumption flow. Also , density is function of pressure, since here air is compressed. \n",
    "<br> Meter_type changes to ISO 5167, because in this measure, the nozzle is inside the pipe <br>\n",
    "Uncertainties and flow meter from the fluid package is used <br> <br> First of all we start to define our geometry of working"
   ]
  },
  {
   "cell_type": "code",
   "execution_count": 3,
   "metadata": {},
   "outputs": [
    {
     "name": "stdout",
     "output_type": "stream",
     "text": [
      "<ufunc 'expm1'>\n"
     ]
    }
   ],
   "source": [
    "# Uncertainties\n",
    "\n",
    "DeltaH            = 5           # uncertainty in pressure,in mm. abans n'hi havia 2\n",
    "DeltaH_Hg         = 5           # uncertainty for mercury\n",
    "DeltaP            = 0.01        # uncertainty in pressure, in bar\n",
    "DeltaT            = 0.1         # uncertainty in kelvin\n",
    "DeltaM            = 20e-5        #uncertainty of measures of mm, expresed in meters\n",
    "\n",
    "# Numerical Uncertainties\n",
    "errNumSec         = 0.004\n",
    "errNumPri         = 0.003\n",
    "print(expm1)"
   ]
  },
  {
   "cell_type": "code",
   "execution_count": 4,
   "metadata": {},
   "outputs": [],
   "source": [
    "# Measures of the pipe and the diameter of the nozzle \n",
    "D1                 = ufloat( 22e-3   , DeltaM)      # pipe diameter, for the large nozzle pressure in m\n",
    "D2                 = ufloat( 25e-3   , DeltaM)      # pipe diameter, for the small nozzle pressure in m\n",
    "D3                 = ufloat( 22e-3   , DeltaM)      # pipe diameter,  diàmetre de la canonada del primary flow\n",
    "\n",
    "Do_1               = ufloat( 10.3e-3 , DeltaM)      # orifice diameter in m (large nozzle)\n",
    "Do_2               = ufloat( 5.15e-3 ,  DeltaM)     # orifice diameter in m (small nozzle)\n",
    "Do_3               = ufloat( 4.2e-3  , DeltaM)      # el diàmetre del nozzle del diafragma q calcula el consum\n",
    "\n",
    "N_index = 1 "
   ]
  },
  {
   "cell_type": "markdown",
   "metadata": {},
   "source": [
    "### First experiment: the large nozzle\n"
   ]
  },
  {
   "cell_type": "code",
   "execution_count": 5,
   "metadata": {},
   "outputs": [],
   "source": [
    "\n",
    "P_amb             = 745                  # Ambient pressure in mmHg\n",
    "T_amb             = 25                   # T in degrees\n",
    "manRelRho         = 1 #It is water\n",
    "\n",
    "firstExperimentLabson (N_index, P_amb, T_amb, manRelRho , DeltaH, DeltaH_Hg, DeltaP, DeltaT , D1, D3, Do_1, Do_3 )\n",
    "N_index += 1"
   ]
  },
  {
   "cell_type": "markdown",
   "metadata": {},
   "source": [
    "###  Second experiment:   Small nozzle. Lower flow rate. Manometric fluid is Water"
   ]
  },
  {
   "cell_type": "code",
   "execution_count": 6,
   "metadata": {},
   "outputs": [],
   "source": [
    "P_amb                = 750                  # Ambient pressure in mmHg\n",
    "T_amb                = 25                   # T in degrees\n",
    "manRelRho            = 1   # It is water\n",
    "\n",
    "firstExperimentLabson (N_index, P_amb, T_amb, manRelRho , DeltaH , DeltaH_Hg, DeltaP , DeltaT , D2 , D3 , Do_2 , Do_3)\n",
    "N_index += 1"
   ]
  },
  {
   "cell_type": "markdown",
   "metadata": {},
   "source": [
    "### Third experiment: Small Nozzle. Lower flow rate. Manometric fluid is alcohol"
   ]
  },
  {
   "cell_type": "code",
   "execution_count": 7,
   "metadata": {},
   "outputs": [],
   "source": [
    "P_amb     = 740                  # Ambient pressure in mmHg\n",
    "T_amb     = 25                   # T in degrees\n",
    "manRelRho            = 0.7918   #  DeltaH_Hg,  It is water\n",
    "firstExperimentLabson (N_index, P_amb, T_amb , manRelRho, DeltaH ,  DeltaH_Hg,  DeltaP , DeltaT , D2 , D3 , Do_2 , Do_3)"
   ]
  },
  {
   "cell_type": "markdown",
   "metadata": {},
   "source": [
    "## Numerical results obtained with the two solvers"
   ]
  },
  {
   "cell_type": "markdown",
   "metadata": {},
   "source": [
    "### HiSA"
   ]
  },
  {
   "cell_type": "code",
   "execution_count": 8,
   "metadata": {},
   "outputs": [],
   "source": [
    "# These are the total pressure in the vessel\n",
    "p0_s                 = array([100,80,60,40,30,27.5,25,21.73])/100\n",
    "mdot_s               = array([1.30,1.03,0.73,0.45,0.33,0.26,0.14,0.0])*1e-4\n",
    "mdot_p               = array([1.315,1.314,1.314,1.314,1.314,1.314,1.314,1.314])*1e-4\n",
    "numData              = numDat( mdot_s , mdot_p, p0_s , errNumSec , errNumPri )"
   ]
  },
  {
   "cell_type": "markdown",
   "metadata": {},
   "source": [
    "### rhoCentralFoam"
   ]
  },
  {
   "cell_type": "code",
   "execution_count": 9,
   "metadata": {},
   "outputs": [],
   "source": [
    "p0RCF_s                = array([100,80,70,60,50,40,30,20]) /100\n",
    "#This is the calculated flow rate for variable ps\n",
    "mdotRCF_s              = array([1.21,0.94,0.81,0.69,0.56,0.44,0.35,0.18]) *1e-4\n",
    "mdotRCF_p              = array([1.31,1.31,1.31,1.31,1.31,1.31,1.31,1.31])*1e-4\n",
    "numDataRCF             = numDat( mdotRCF_s ,mdotRCF_p, p0RCF_s , errNumSec , errNumPri )"
   ]
  },
  {
   "cell_type": "markdown",
   "metadata": {},
   "source": [
    "## Obtenció dels valors adiabàtic i isotermic"
   ]
  },
  {
   "cell_type": "code",
   "execution_count": 10,
   "metadata": {},
   "outputs": [],
   "source": [
    "adiab   = DataFrame()\n",
    "iso     = DataFrame()\n",
    "\n",
    "iso     = pd.read_csv ( 'isotermicLabson.csv' , sep = ',' )\n",
    "adiab   = pd.read_csv ( 'adiabaticLabson.csv' , sep = ',' )\n",
    "\n",
    "# adiab   = np.array(adiab)\n",
    "adiab ['flowrate']   = adiab.flowrate * 60000 / rhoN          #(470*1.29)\n",
    "adiab ['pressure']   = 1.01325 - adiab.pressure \n",
    "\n",
    "iso ['flowrate']     = iso.flowrate * 60000 / rhoN            #(470*rhoN)\n",
    "iso ['pressure']     = 1.01325 - iso.pressure \n",
    "# print (adiab, iso)"
   ]
  },
  {
   "cell_type": "markdown",
   "metadata": {},
   "source": [
    "### This is the way to pass a pandas object (with uncertainty) to another program through a file\n",
    "With the \"pickle\" method. See https://docs.python.org/3/library/pickle.html"
   ]
  },
  {
   "cell_type": "code",
   "execution_count": 11,
   "metadata": {},
   "outputs": [],
   "source": [
    "#expNozzleData = pd.concat( [ smallNozzleData2 , smallNozzleData1 , largeNozzleData  ] , ignore_index = 'True')\n",
    "#with open('mdotLABSONvsPressure.pickle', 'wb') as f:\n",
    "#    pickle.dump( expNozzleData , f , pickle.HIGHEST_PROTOCOL )       # Pickle the 'data' dictionary using the highest protocol available.\n",
    "with open('numDat.pickle', 'wb') as f:\n",
    "    pickle.dump( numData , f , pickle.HIGHEST_PROTOCOL )       \n",
    "with open('numDatRCF.pickle', 'wb') as f:\n",
    "    pickle.dump( numDataRCF , f , pickle.HIGHEST_PROTOCOL )    \n",
    "with open('isot.pickle', 'wb') as f:\n",
    "    pickle.dump( iso , f , pickle.HIGHEST_PROTOCOL )\n",
    "with open('adiaba.pickle', 'wb') as f:\n",
    "    pickle.dump( adiab , f , pickle.HIGHEST_PROTOCOL )"
   ]
  },
  {
   "cell_type": "code",
   "execution_count": null,
   "metadata": {},
   "outputs": [],
   "source": []
  },
  {
   "cell_type": "code",
   "execution_count": null,
   "metadata": {},
   "outputs": [],
   "source": []
  },
  {
   "cell_type": "code",
   "execution_count": null,
   "metadata": {},
   "outputs": [],
   "source": []
  },
  {
   "cell_type": "code",
   "execution_count": null,
   "metadata": {},
   "outputs": [],
   "source": []
  },
  {
   "cell_type": "code",
   "execution_count": null,
   "metadata": {},
   "outputs": [],
   "source": []
  },
  {
   "cell_type": "code",
   "execution_count": 12,
   "metadata": {},
   "outputs": [
    {
     "ename": "NameError",
     "evalue": "name 'smallNozzleData1' is not defined",
     "output_type": "error",
     "traceback": [
      "\u001b[0;31m---------------------------------------------------------------------------\u001b[0m",
      "\u001b[0;31mNameError\u001b[0m                                 Traceback (most recent call last)",
      "\u001b[0;32m<ipython-input-12-7889b93f32c3>\u001b[0m in \u001b[0;36m<module>\u001b[0;34m\u001b[0m\n\u001b[1;32m      7\u001b[0m \u001b[0mfig1\u001b[0m \u001b[0;34m=\u001b[0m \u001b[0mfig\u001b[0m\u001b[0;34m.\u001b[0m\u001b[0madd_subplot\u001b[0m\u001b[0;34m(\u001b[0m\u001b[0;36m1\u001b[0m\u001b[0;34m,\u001b[0m\u001b[0;36m1\u001b[0m\u001b[0;34m,\u001b[0m\u001b[0;36m1\u001b[0m\u001b[0;34m)\u001b[0m     \u001b[0;31m# aquí li indiquem que n'hi haurà una\u001b[0m\u001b[0;34m\u001b[0m\u001b[0;34m\u001b[0m\u001b[0m\n\u001b[1;32m      8\u001b[0m \u001b[0;34m\u001b[0m\u001b[0m\n\u001b[0;32m----> 9\u001b[0;31m fig1.errorbar(x    = nominal_values(smallNozzleData1.mdot_s ) , y     = nominal_values(smallNozzleData1.P_vessel_dim),\\\n\u001b[0m\u001b[1;32m     10\u001b[0m               \u001b[0mxerr\u001b[0m \u001b[0;34m=\u001b[0m \u001b[0mstd_devs\u001b[0m\u001b[0;34m(\u001b[0m\u001b[0msmallNozzleData1\u001b[0m\u001b[0;34m.\u001b[0m\u001b[0mmdot_s\u001b[0m\u001b[0;34m)\u001b[0m        \u001b[0;34m,\u001b[0m \u001b[0myerr\u001b[0m  \u001b[0;34m=\u001b[0m \u001b[0mstd_devs\u001b[0m\u001b[0;34m(\u001b[0m\u001b[0msmallNozzleData1\u001b[0m\u001b[0;34m.\u001b[0m\u001b[0mP_vessel_dim\u001b[0m\u001b[0;34m)\u001b[0m\u001b[0;34m,\u001b[0m\u001b[0;31m\\\u001b[0m\u001b[0;34m\u001b[0m\u001b[0;34m\u001b[0m\u001b[0m\n\u001b[1;32m     11\u001b[0m               \u001b[0mfmt\u001b[0m  \u001b[0;34m=\u001b[0m \u001b[0;34m'r'\u001b[0m                                      \u001b[0;34m,\u001b[0m \u001b[0mlabel\u001b[0m \u001b[0;34m=\u001b[0m \u001b[0;34m\"Experimental_LABSON\"\u001b[0m\u001b[0;34m,\u001b[0m\u001b[0;31m \u001b[0m\u001b[0;31m\\\u001b[0m\u001b[0;34m\u001b[0m\u001b[0;34m\u001b[0m\u001b[0m\n",
      "\u001b[0;31mNameError\u001b[0m: name 'smallNozzleData1' is not defined"
     ]
    },
    {
     "data": {
      "image/png": "[encoded data removed]",
      "text/plain": [
       "<Figure size 1080x720 with 1 Axes>"
      ]
     },
     "metadata": {
      "needs_background": "light"
     },
     "output_type": "display_data"
    }
   ],
   "source": [
    "# Gràcies a aquest widget ens permet veure les gràfiques millor\n",
    "#%matplotlib widget     \n",
    "\n",
    "fig  = plt.figure(figsize=(15,10))               # Aquí es crea la instància de la immatge\n",
    "# axes = plt.gca()\n",
    "\n",
    "fig1 = fig.add_subplot(1,1,1)     # aquí li indiquem que n'hi haurà una\n",
    "\n",
    "fig1.errorbar(x    = nominal_values(smallNozzleData1.mdot_s ) , y     = nominal_values(smallNozzleData1.P_vessel_dim),\\\n",
    "              xerr = std_devs(smallNozzleData1.mdot_s)        , yerr  = std_devs(smallNozzleData1.P_vessel_dim),\\\n",
    "              fmt  = 'r'                                      , label = \"Experimental_LABSON\", \\\n",
    "             color = \"blue\"\n",
    "             )\n",
    "\n",
    "fig1.errorbar( x   = nominal_values(smallNozzleData2.mdot_s) , y     = nominal_values(smallNozzleData2.P_vessel_dim),\\\n",
    "              xerr = std_devs(smallNozzleData2.mdot_s)       , yerr  = std_devs(smallNozzleData2.P_vessel_dim),\\\n",
    "              fmt  = 'sy'                                     ,label = \"Experimental Small nozzle 2\",\n",
    "             )\n",
    "\n",
    "fig1.errorbar( x   = nominal_values(largeNozzleData.mdot_s)  ,  y    = nominal_values(largeNozzleData.P_vessel_dim),\\\n",
    "              xerr = std_devs(largeNozzleData.mdot_s)        ,  yerr = std_devs(largeNozzleData.P_vessel_dim),\\\n",
    "              fmt  = 'o'                                     , label = \"Experimental Large nozzle\",\n",
    "             color = \"blue\")\n",
    "\n",
    "fig1.errorbar( x   = nominal_values(numData.mdot_s)          , y     = nominal_values(numData.p0_s_dim),\\\n",
    "              xerr = std_devs(numData.mdot_s)                , yerr  = std_devs(numData.p0_s_dim),\\\n",
    "              fmt  = 'v'                                     , label =\"Numerical_HiSA\",\n",
    "             color = \"g\")\n",
    "\n",
    "#fig1.errorbar( x   = nominal_values(numDataRCF.mdot_s)       , y     = nominal_values(numDataRCF.p0_s_dim), \\\n",
    " #             xerr = std_devs(numDataRCF.mdot_s)             , yerr  = std_devs(numDataRCF.p0_s_dim),\\\n",
    "  #            fmt  = 'v'                                     , #label = \"Numerical RCF\",\n",
    "   #          color = \"Red\")\n",
    "\n",
    "fig1.set_xlabel(\"Adimensional aspiration flowrate\")\n",
    "fig1.set_ylabel(\"Adimensional vaccum level \")\n",
    "plt.title(\" CURVE OF PERFORMANCE \\n\" )\n",
    "fig1.grid()                        # Ara ens mostrarà la graella\n",
    "fig.savefig('curveofperformance.png')\n",
    "\n",
    "# plt.xticks(np.arange(0.18, 0.4, 0.1))\n",
    "# plt.yticks(np.arange(  min(nominal_value(largeNozzleData.QN_s)), max(nominal_value(largeNozzleData.QN_s)), 0.1))\n",
    "# plt.xticks(np.arange(min(nominal_values(largeNozzleData.P_vessel_dim)), max(nominal_values(largeNozzleData.P_vessel_dim)), 0.1))\n",
    "\n",
    "# plt.gca().invert_xaxis()   # Gràcies a aquesta comanda m'ha permes girar l'eix X i aconseguir veure-ho com ho vol veure el sergi\n",
    "# fig1.set_xlabel('')\n",
    "\n",
    "\n",
    "# axes.set_xlim([ 0 , 83 ])\n",
    "# axes.set_ylim([ -2 , 450 ])\n",
    "\n",
    " "
   ]
  },
  {
   "cell_type": "code",
   "execution_count": null,
   "metadata": {},
   "outputs": [],
   "source": []
  }
 ],
 "metadata": {
  "kernelspec": {
   "display_name": "Python 3",
   "language": "python",
   "name": "python3"
  },
  "language_info": {
   "codemirror_mode": {
    "name": "ipython",
    "version": 3
   },
   "file_extension": ".py",
   "mimetype": "text/x-python",
   "name": "python",
   "nbconvert_exporter": "python",
   "pygments_lexer": "ipython3",
   "version": "3.7.6"
  }
 },
 "nbformat": 4,
 "nbformat_minor": 4
}
