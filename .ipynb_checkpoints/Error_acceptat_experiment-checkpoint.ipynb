{
 "cells": [
  {
   "cell_type": "code",
   "execution_count": 80,
   "metadata": {},
   "outputs": [],
   "source": [
    "from   fluids               import *\n",
    "from   thermo               import Mixture\n",
    "from   scipy.constants      import atmosphere, zero_Celsius, mmHg, g\n",
    "import scipy                as     sci\n",
    "import numpy as  np\n",
    "import uncertainties \n",
    "from   uncertainties        import *\n",
    "from   uncertainties.unumpy import *\n",
    "import uncertainties        as     unumpy\n",
    "from   numpy                import *\n",
    "from   pandas               import *\n",
    "import pandas               as     pd\n",
    "import matplotlib.pyplot    as     plt\n",
    "\n",
    "def chocked_mass_flow (pressure, temp,  area):\n",
    "        gamma = 1.4\n",
    "        if temp-zero_Celsius < 0:\n",
    "            print(\"has de sumar-hi el conversor de k a ºC\")\n",
    "        else:    \n",
    "            air = Mixture( 'air' , T = temp , P = pressure )\n",
    "            r   = sci.constants.R / air.MW * 1000\n",
    "   \n",
    "            d   = gamma+1\n",
    "            e   = 2*(gamma-1)\n",
    "    \n",
    "            A   = pressure * area\n",
    "            B   = (r*temp) **(-0.5)\n",
    "            C   = (gamma ) **0.5\n",
    "            D   = (  2 / d  )**(d/e)\n",
    "            \n",
    "        return  A * B * C * D"
   ]
  },
  {
   "cell_type": "code",
   "execution_count": 81,
   "metadata": {},
   "outputs": [
    {
     "name": "stdout",
     "output_type": "stream",
     "text": [
      "<Mixture, components=['nitrogen', 'argon', 'oxygen'], mole fractions=[0.7812, 0.0092, 0.2096], T=270.00 K, P=10000000 Pa> 287.1155244484815\n"
     ]
    }
   ],
   "source": [
    "temp = 270\n",
    "pressure = 100e5\n",
    "air = Mixture( 'air' , T = temp , P = pressure )\n",
    "r   = sci.constants.R / air.MW * 1000\n",
    "k         = air.isentropic_exponent\n",
    "mu        = air.mu\n",
    "rho       = air.rho\n",
    "print(air,r)"
   ]
  },
  {
   "cell_type": "code",
   "execution_count": 82,
   "metadata": {},
   "outputs": [
    {
     "name": "stdout",
     "output_type": "stream",
     "text": [
      "470.695\n"
     ]
    }
   ],
   "source": [
    "def area (x):\n",
    "    return np.pi*x**2/4\n",
    "\n",
    "d = 2.75e-3\n",
    "temp = 274\n",
    "pressure = 7e5\n",
    "airN = Mixture( 'air' , T = 273 , P = atmosphere )\n",
    "rhoN       = airN.rho\n",
    "\n",
    "a = area(d)\n",
    "\n",
    "m = chocked_mass_flow(pressure,temp,a)\n",
    "qN = 60 *1000* m/rhoN\n",
    "\n",
    "print(round(qN,3))"
   ]
  },
  {
   "cell_type": "code",
   "execution_count": 115,
   "metadata": {},
   "outputs": [
    {
     "name": "stdout",
     "output_type": "stream",
     "text": [
      "   p [bar]  err [%]\n",
      "0     6.20   -11.43\n",
      "1     6.34    -9.37\n",
      "2     6.49    -7.30\n",
      "3     6.63    -5.24\n",
      "4     6.78    -3.17\n",
      "5     6.92    -1.11\n",
      "6     7.07     0.95\n",
      "7     7.21     3.02\n",
      "8     7.36     5.08\n",
      "9     7.50     7.14\n"
     ]
    }
   ],
   "source": [
    "n = 10\n",
    "m = np.array(zeros(n))\n",
    "# p = np.linspace(6.25e5, 7.5e5, num=n)\n",
    "p = np.linspace(6.2e5, 7.5e5, num=n)\n",
    "q = np.array(zeros(n))\n",
    "err = np.array(zeros(n))\n",
    "diff = np.array(zeros(n))\n",
    "# print (m,p)\n",
    "\n",
    "for i in range (n):\n",
    "    \n",
    "    m[i] = chocked_mass_flow(p[i],temp,a)\n",
    "    q[i] = 60 *1000* m[i]/rhoN\n",
    "    diff[i] = (q[i] - qN)\n",
    "    err[i]  = round(diff[i]*100/qN,2)\n",
    "    p[i] = round (p[i]/1e5, 2)\n",
    "\n",
    "arr = DataFrame() \n",
    "arr['p [bar]'] = p\n",
    "arr['err [%]'] = err\n",
    "# print(p/1e5,err)\n",
    "print(arr)\n",
    "\n",
    "\n",
    "np.savetxt(\"arr.csv\", arr, delimiter=\",\",fmt='%f')"
   ]
  },
  {
   "cell_type": "markdown",
   "metadata": {},
   "source": [
    "Acceptarem des de 6.7 bar fins a 7.36 bar.\n"
   ]
  },
  {
   "cell_type": "code",
   "execution_count": null,
   "metadata": {},
   "outputs": [],
   "source": []
  }
 ],
 "metadata": {
  "kernelspec": {
   "display_name": "Python 3",
   "language": "python",
   "name": "python3"
  },
  "language_info": {
   "codemirror_mode": {
    "name": "ipython",
    "version": 3
   },
   "file_extension": ".py",
   "mimetype": "text/x-python",
   "name": "python",
   "nbconvert_exporter": "python",
   "pygments_lexer": "ipython3",
   "version": "3.7.6"
  }
 },
 "nbformat": 4,
 "nbformat_minor": 4
}
