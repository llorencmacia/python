{
 "cells": [
  {
   "cell_type": "code",
   "execution_count": 1,
   "metadata": {},
   "outputs": [],
   "source": [
    "from   fluids               import *\n",
    "from   thermo               import Mixture\n",
    "from   scipy.constants      import atmosphere, zero_Celsius, mmHg, g\n",
    "import scipy                as     sci\n",
    "import uncertainties \n",
    "# from   uncertainties        import *\n",
    "from   uncertainties.unumpy import *\n",
    "# import uncertainties        as     unumpy\n",
    "from   numpy                import *\n",
    "from   pandas               import *\n",
    "import pandas               as pd\n",
    "import matplotlib.pyplot    as plt\n",
    "import numpy                as np\n",
    "import uncertainties        as uc\n",
    "import uncertainties.unumpy as ucu\n",
    "import pwlf                             # amb aquest packet permet la interpolació lineal\n",
    "# import pickle        \n",
    "import math                             # amb aquest packet podem transportar informació \n",
    "from sympy import symbols, solve"
   ]
  },
  {
   "cell_type": "code",
   "execution_count": null,
   "metadata": {},
   "outputs": [],
   "source": []
  }
 ],
 "metadata": {
  "kernelspec": {
   "display_name": "Python 3",
   "language": "python",
   "name": "python3"
  },
  "language_info": {
   "codemirror_mode": {
    "name": "ipython",
    "version": 3
   },
   "file_extension": ".py",
   "mimetype": "text/x-python",
   "name": "python",
   "nbconvert_exporter": "python",
   "pygments_lexer": "ipython3",
   "version": "3.7.6"
  }
 },
 "nbformat": 4,
 "nbformat_minor": 4
}
