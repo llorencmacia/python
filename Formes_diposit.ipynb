{
 "cells": [
  {
   "cell_type": "code",
   "execution_count": 39,
   "metadata": {},
   "outputs": [],
   "source": [
    "import numpy as np\n",
    "\n",
    "def area (x):\n",
    "    return np.pi*x**2/4\n",
    "def perimetre(x):\n",
    "    return np.pi*x"
   ]
  },
  {
   "cell_type": "code",
   "execution_count": 87,
   "metadata": {},
   "outputs": [],
   "source": [
    "d_100 = 0.375\n",
    "l_100 = 0.91\n",
    "\n",
    "d_200 = 0.56\n",
    "l_200 = 0.82\n",
    "\n",
    "d_500 = 0.60\n",
    "l_500 = 1.77"
   ]
  },
  {
   "cell_type": "code",
   "execution_count": 88,
   "metadata": {},
   "outputs": [],
   "source": [
    "a_100 = area(d_100)\n",
    "a_200 = area(d_200)\n",
    "a_500 = area(d_500)\n",
    "\n",
    "per_100 = perimetre(d_100)\n",
    "per_200 = perimetre(d_200)\n",
    "per_500 = perimetre(d_500)\n",
    "\n",
    "\n",
    "v_100 = a_100*l_100\n",
    "v_200 = a_200*l_200\n",
    "v_500 = a_500*l_500\n",
    "\n",
    "at_100 = 2* a_100 + per_100*l_100\n",
    "at_200 = 2* a_200 + per_200*l_200\n",
    "at_500 = 2* a_500 + per_500*l_500"
   ]
  },
  {
   "cell_type": "code",
   "execution_count": 89,
   "metadata": {},
   "outputs": [
    {
     "name": "stdout",
     "output_type": "stream",
     "text": [
      "(0.10051, 'm3')\n",
      "(0.20197, 'm3')\n",
      "(0.50046, 'm3')\n"
     ]
    }
   ],
   "source": [
    "print(round(v_100,5),\"m3\")\n",
    "print(round(v_200,5),\"m3\")\n",
    "print(round(v_500,5),\"m3\")"
   ]
  },
  {
   "cell_type": "code",
   "execution_count": 90,
   "metadata": {},
   "outputs": [
    {
     "name": "stdout",
     "output_type": "stream",
     "text": [
      "(1.29296, 'm2')\n",
      "(1.93522, 'm2')\n",
      "(3.90186, 'm2')\n"
     ]
    }
   ],
   "source": [
    "print(round(at_100,5),\"m2\")\n",
    "print(round(at_200,5),\"m2\")\n",
    "print(round(at_500,5),\"m2\")"
   ]
  },
  {
   "cell_type": "code",
   "execution_count": null,
   "metadata": {},
   "outputs": [],
   "source": []
  }
 ],
 "metadata": {
  "kernelspec": {
   "display_name": "Python 2",
   "language": "python",
   "name": "python2"
  },
  "language_info": {
   "codemirror_mode": {
    "name": "ipython",
    "version": 2
   },
   "file_extension": ".py",
   "mimetype": "text/x-python",
   "name": "python",
   "nbconvert_exporter": "python",
   "pygments_lexer": "ipython2",
   "version": "2.7.18"
  }
 },
 "nbformat": 4,
 "nbformat_minor": 2
}
