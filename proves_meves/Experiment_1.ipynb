{
 "cells": [
  {
   "cell_type": "code",
   "execution_count": 1,
   "metadata": {},
   "outputs": [],
   "source": [
    "from   fluids               import *\n",
    "from   thermo               import Mixture\n",
    "from   scipy.constants      import atmosphere, zero_Celsius, mmHg, g\n",
    "import scipy                as     sci\n",
    "import uncertainties \n",
    "# from   uncertainties        import *\n",
    "from   uncertainties.unumpy import *\n",
    "# import uncertainties        as     unumpy\n",
    "from   numpy                import *\n",
    "from   pandas               import *\n",
    "import pandas               as pd\n",
    "import matplotlib.pyplot    as plt\n",
    "import numpy                as np\n",
    "import uncertainties        as uc\n",
    "import uncertainties.unumpy as ucu\n",
    "import pwlf                             # amb aquest packet permet la interpolació lineal\n",
    "# import pickle        \n",
    "import math                             # amb aquest packet podem transportar informació \n",
    "from sympy import symbols, solve"
   ]
  },
  {
   "cell_type": "code",
   "execution_count": 2,
   "metadata": {},
   "outputs": [],
   "source": [
    "PvsMu1         = pd.read_csv ( 'datameu.csv' , sep = ';' )\n",
    "PvsMu2         = pd.read_csv ( 'datameu1.csv' , sep = ';' )\n",
    "PvsMu3         = pd.read_csv ( 'datameu2.csv' , sep = ';' )"
   ]
  },
  {
   "cell_type": "code",
   "execution_count": 3,
   "metadata": {},
   "outputs": [],
   "source": [
    "# print(type(PvsTime1))"
   ]
  },
  {
   "cell_type": "code",
   "execution_count": 4,
   "metadata": {},
   "outputs": [],
   "source": [
    "\n",
    "PvsMu = pd.concat([PvsMu1,PvsMu2,PvsMu3])\n",
    "\n",
    "# print(PvsTime)\n",
    "PvsMu       = PvsMu.sort_values( by   = 'p_vess_dim')\n",
    "PvsMu       = PvsMu.reset_index( drop = 'True')       #reset index and drop ?\n",
    "PvsMu['mu'] = PvsMu.mdot/PvsMu.mdot_p"
   ]
  },
  {
   "cell_type": "code",
   "execution_count": 5,
   "metadata": {},
   "outputs": [
    {
     "data": {
      "text/plain": [
       "Text(0.5, 0, 'prova')"
      ]
     },
     "execution_count": 5,
     "metadata": {},
     "output_type": "execute_result"
    },
    {
     "data": {
      "image/png": "[encoded data removed]",
      "text/plain": [
       "<Figure size 432x288 with 1 Axes>"
      ]
     },
     "metadata": {
      "needs_background": "light"
     },
     "output_type": "display_data"
    }
   ],
   "source": [
    "fig = plt.figure()\n",
    "fig1 = fig.add_subplot(1,1,1)\n",
    "fig1.errorbar(x=PvsMu.mu,y= PvsMu.p_vess_dim,\\\n",
    "              xerr=0, yerr=0, \\\n",
    "#               xerr=PvsTime.mdot,yerr=PvsTime.p_vess_err_dim,\\\n",
    "              fmt='s',label='m' )\n",
    "plt.xlabel(\"prova\")"
   ]
  },
  {
   "cell_type": "code",
   "execution_count": 6,
   "metadata": {},
   "outputs": [],
   "source": [
    "x = PvsMu.mu\n",
    "y = PvsMu.p_vess_dim\n",
    "\n",
    "my_pwlf   = pwlf.PiecewiseLinFit( x , y )  #inicia aquí la sequencia del piecewiselinealfit \n",
    "res       = my_pwlf.fit( 2 )               # \n",
    "# my_pwlf.slopes\n",
    "xHat      = np.linspace(min(x), max(x), num=100)   #aqui crea els valors ben separats entre ells\n",
    "yHat      = my_pwlf.predict(xHat) \n"
   ]
  },
  {
   "cell_type": "code",
   "execution_count": 7,
   "metadata": {},
   "outputs": [
    {
     "data": {
      "text/plain": [
       "[<matplotlib.lines.Line2D at 0x7fb18255fed0>]"
      ]
     },
     "execution_count": 7,
     "metadata": {},
     "output_type": "execute_result"
    },
    {
     "data": {
      "image/png": "[encoded data removed]",
      "text/plain": [
       "<Figure size 432x288 with 1 Axes>"
      ]
     },
     "metadata": {
      "needs_background": "light"
     },
     "output_type": "display_data"
    }
   ],
   "source": [
    "plt.plot(xHat,yHat)"
   ]
  },
  {
   "cell_type": "code",
   "execution_count": 8,
   "metadata": {},
   "outputs": [],
   "source": [
    "graph = DataFrame()\n",
    "graph['p'] = xHat\n",
    "graph['mu'] = yHat\n",
    "\n",
    "PvsMu.to_csv(path_or_buf='PvsMu.csv', sep=';')\n",
    "graph.to_csv(path_or_buf='graph.csv', sep=';')\n"
   ]
  },
  {
   "cell_type": "code",
   "execution_count": null,
   "metadata": {},
   "outputs": [],
   "source": []
  }
 ],
 "metadata": {
  "kernelspec": {
   "display_name": "Python 3",
   "language": "python",
   "name": "python3"
  },
  "language_info": {
   "codemirror_mode": {
    "name": "ipython",
    "version": 3
   },
   "file_extension": ".py",
   "mimetype": "text/x-python",
   "name": "python",
   "nbconvert_exporter": "python",
   "pygments_lexer": "ipython3",
   "version": "3.7.6"
  }
 },
 "nbformat": 4,
 "nbformat_minor": 4
}
